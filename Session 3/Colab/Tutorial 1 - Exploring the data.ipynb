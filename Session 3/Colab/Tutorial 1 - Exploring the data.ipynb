{
  "nbformat": 4,
  "nbformat_minor": 0,
  "metadata": {
    "colab": {
      "name": "Tutorial 1 - Exploring the data.ipynb",
      "provenance": [],
      "collapsed_sections": []
    },
    "kernelspec": {
      "name": "python3",
      "display_name": "Python 3"
    }
  },
  "cells": [
    {
      "cell_type": "markdown",
      "metadata": {
        "id": "Liumf1BGmJC4"
      },
      "source": [
        "## **Discovery Taxonomy prediction from descriptions**\n",
        "For this notebook we will use data from Discovery to further explore some of the ideas from the previous session. In the advanced search of Discovery, it is possible to filter your search according to a taxonomy which is maintained by the cataloguing team. There are 136 categories in the dataset with names such as \"Trade and commerce\", \"Population\", \"International\", \"Hunting\", and \"UFOs\". Each record in the catalogue is categorised according to a set of rules which are applied to the description of the record in Discovery. For example, if a description includes the following words or phrases it will be classified as \"Taxation\":  \"taxes\", \"taxation\", \"first fruits and tenths\", \"Domesday\", \"customs revenue\", \"scutages\".\n",
        "\n",
        "Some of these rules can be long and complex, and it is easy to find examples where the ambiguities of language mean they categorise documents incorrectly. We're not going to solve these problems in this tutorial but it is an opportunity to explore a machine learning approach to the problem and discuss the advantages and disadvantages of Rules vs. ML."
      ]
    },
    {
      "cell_type": "code",
      "metadata": {
        "id": "KKB9a8WasM1P"
      },
      "source": [
        "import sys\r\n",
        "import os"
      ],
      "execution_count": 9,
      "outputs": []
    },
    {
      "cell_type": "code",
      "metadata": {
        "colab": {
          "base_uri": "https://localhost:8080/"
        },
        "id": "jWIxj8bfsjJZ",
        "outputId": "4ff86b91-6df5-4c0a-e13e-7ef9b5d37489"
      },
      "source": [
        "os.listdir('MachineLearningClub')"
      ],
      "execution_count": 13,
      "outputs": [
        {
          "output_type": "execute_result",
          "data": {
            "text/plain": [
              "['.git',\n",
              " 'Datasets.md',\n",
              " 'Session 2',\n",
              " 'Session 1',\n",
              " 'LICENSE',\n",
              " 'Session 3',\n",
              " 'README.md',\n",
              " 'Session 0']"
            ]
          },
          "metadata": {
            "tags": []
          },
          "execution_count": 13
        }
      ]
    },
    {
      "cell_type": "code",
      "metadata": {
        "id": "A593TYKurFs2"
      },
      "source": [
        "# Where do you want to get data from - Google Drive or Github\r\n",
        "data_source = \"Github\"  # Change to either Github or Drive - if Drive, copy the data into a folder called \"Data\" within your \"My Drive folder\""
      ],
      "execution_count": 2,
      "outputs": []
    },
    {
      "cell_type": "code",
      "metadata": {
        "colab": {
          "base_uri": "https://localhost:8080/"
        },
        "id": "JHsTSWeYrCB5",
        "outputId": "ddac7ec4-7099-4386-868f-ec270515f82b"
      },
      "source": [
        "if data_source == \"Github\":\r\n",
        "    !git clone https://github.com/nationalarchives/MachineLearningClub.git\r\n",
        "    sys.path.insert(0, 'MachineLearningClub')\r\n",
        "    data_folder = \"MachineLearningClub/Session 3/Data/\"\r\n",
        "    os.listdir(data_folder)\r\n",
        "else:\r\n",
        "    # Connect to gdrive\r\n",
        "    from google.colab import drive\r\n",
        "    drive.mount('/content/gdrive')\r\n",
        "    data_folder = \"/content/gdrive/My Drive/Data/\"\r\n",
        "    os.listdir(data_folder)"
      ],
      "execution_count": 15,
      "outputs": [
        {
          "output_type": "stream",
          "text": [
            "Cloning into 'MachineLearningClub'...\n",
            "remote: Enumerating objects: 60, done.\u001b[K\n",
            "remote: Counting objects: 100% (60/60), done.\u001b[K\n",
            "remote: Compressing objects: 100% (60/60), done.\u001b[K\n",
            "remote: Total 60 (delta 13), reused 0 (delta 0), pack-reused 0\u001b[K\n",
            "Unpacking objects: 100% (60/60), done.\n"
          ],
          "name": "stdout"
        }
      ]
    },
    {
      "cell_type": "markdown",
      "metadata": {
        "id": "acrFqgYmmwmF"
      },
      "source": [
        "This piece of code imports the libraries that we will be using in the first part of this notebook."
      ]
    },
    {
      "cell_type": "code",
      "metadata": {
        "id": "WY6Or3c1tB-m"
      },
      "source": [
        "import numpy as np\n",
        "import pandas as pd\n",
        "import matplotlib.pyplot as plt\n",
        "import sklearn      # The most common Python Machine Learning library - scikit learn\n",
        "from sklearn.model_selection import train_test_split  # Used to create training and test data\n",
        "from sklearn.metrics import confusion_matrix, accuracy_score, f1_score, balanced_accuracy_score\n",
        "import seaborn as sns\n",
        "from sklearn import svm\n",
        "from sklearn.ensemble import RandomForestClassifier, GradientBoostingClassifier\n",
        "from sklearn.naive_bayes import GaussianNB, MultinomialNB\n",
        "from sklearn.feature_extraction.text import TfidfVectorizer\n",
        "from sklearn.linear_model import SGDClassifier, LogisticRegression\n",
        "from sklearn.tree import DecisionTreeClassifier\n",
        "from sklearn.feature_extraction.text import TfidfVectorizer, CountVectorizer\n",
        "from sklearn.metrics import precision_score, recall_score, confusion_matrix, classification_report, accuracy_score, f1_score\n",
        "from operator import itemgetter"
      ],
      "execution_count": 16,
      "outputs": []
    },
    {
      "cell_type": "markdown",
      "metadata": {
        "id": "6TpTTMJ2nEjN"
      },
      "source": [
        "Here we will be creating the dataframe (what this library - Pandas - calls a table) from the text file, and load it into a variable called **descriptions**. After loading we will output a count of rows. It should be obvious from the counts that this is a sample of Discovery, not the whole thing (with its 30+ million records). You will notice there are some rows with blanks in the Description column (because the count is different to the other columns). **What should we do with those?** Think back to session 1 when we discussed strategies for missing data."
      ]
    },
    {
      "cell_type": "code",
      "metadata": {
        "id": "4RTzMIbuZRN7",
        "colab": {
          "base_uri": "https://localhost:8080/"
        },
        "outputId": "a50ff098-3839-4243-e159-1be00e021db6"
      },
      "source": [
        "descriptions = pd.read_csv(data_folder + 'taxonomy_descriptions.txt',\n",
        "                           delimiter=\"|\", header=None, lineterminator='\\n')\n",
        "descriptions.columns = [\"IAID\",\"TAXID\",\"Description\"]\n",
        "descriptions.count()"
      ],
      "execution_count": 17,
      "outputs": [
        {
          "output_type": "execute_result",
          "data": {
            "text/plain": [
              "IAID           145037\n",
              "TAXID          145037\n",
              "Description    145033\n",
              "dtype: int64"
            ]
          },
          "metadata": {
            "tags": []
          },
          "execution_count": 17
        }
      ]
    },
    {
      "cell_type": "markdown",
      "metadata": {
        "id": "vOSLxp1WOeQ0"
      },
      "source": [
        "Let's drop those rows. Without a description there are no features for the ML to work with. In reality we would want to write a description, although that is probably a lifetime's work for the whole catalogue!"
      ]
    },
    {
      "cell_type": "code",
      "metadata": {
        "id": "T611tdICOVsv",
        "colab": {
          "base_uri": "https://localhost:8080/"
        },
        "outputId": "afe35b76-c438-4255-c367-b573b5f63a5e"
      },
      "source": [
        "descriptions.dropna(inplace=True)\n",
        "print(\"Rows:\", len(descriptions))"
      ],
      "execution_count": 18,
      "outputs": [
        {
          "output_type": "stream",
          "text": [
            "Rows: 145033\n"
          ],
          "name": "stdout"
        }
      ]
    },
    {
      "cell_type": "markdown",
      "metadata": {
        "id": "SzsWfXEQJJcy"
      },
      "source": [
        "### **Understanding our data**\n",
        "\n",
        "We will start by looking at the first few rows. If you want to see more rows you can change the number inside of the brackets after the 'head' function. You can also adjust the 'max_colwidth' setting to see more of the Descriptions if you like."
      ]
    },
    {
      "cell_type": "code",
      "metadata": {
        "id": "To-mgu2BCcJS",
        "colab": {
          "base_uri": "https://localhost:8080/",
          "height": 219
        },
        "outputId": "dc24d5d8-7d00-408e-a816-3b9a3933184e"
      },
      "source": [
        "pd.set_option('display.max_colwidth', 130) # increment 5 or 10 at a time if you want to see wider descriptions.\n",
        "print(\"Number of rows:\", len(descriptions))\n",
        "descriptions.head(5)"
      ],
      "execution_count": 19,
      "outputs": [
        {
          "output_type": "stream",
          "text": [
            "Number of rows: 145033\n"
          ],
          "name": "stdout"
        },
        {
          "output_type": "execute_result",
          "data": {
            "text/html": [
              "<div>\n",
              "<style scoped>\n",
              "    .dataframe tbody tr th:only-of-type {\n",
              "        vertical-align: middle;\n",
              "    }\n",
              "\n",
              "    .dataframe tbody tr th {\n",
              "        vertical-align: top;\n",
              "    }\n",
              "\n",
              "    .dataframe thead th {\n",
              "        text-align: right;\n",
              "    }\n",
              "</style>\n",
              "<table border=\"1\" class=\"dataframe\">\n",
              "  <thead>\n",
              "    <tr style=\"text-align: right;\">\n",
              "      <th></th>\n",
              "      <th>IAID</th>\n",
              "      <th>TAXID</th>\n",
              "      <th>Description</th>\n",
              "    </tr>\n",
              "  </thead>\n",
              "  <tbody>\n",
              "    <tr>\n",
              "      <th>0</th>\n",
              "      <td>C13122444</td>\n",
              "      <td>C10005</td>\n",
              "      <td>Registered design number: 381468.  Proprietor: The Strines Printing Company.  Address: 19 George Street, Manchester, Lancashi...</td>\n",
              "    </tr>\n",
              "    <tr>\n",
              "      <th>1</th>\n",
              "      <td>C13089234</td>\n",
              "      <td>C10005</td>\n",
              "      <td>Registered design number: 196086.  Proprietor: James Black and Company.  Address: 23 Royal Exchange Square, Glasgow, Scotland...</td>\n",
              "    </tr>\n",
              "    <tr>\n",
              "      <th>2</th>\n",
              "      <td>C13195333</td>\n",
              "      <td>C10092</td>\n",
              "      <td>Statements of Service, Royal Artillery 10 Battalion Numbers 1 to 477.  This entry appears on opening 381; this number is impr...</td>\n",
              "    </tr>\n",
              "    <tr>\n",
              "      <th>3</th>\n",
              "      <td>C13175356</td>\n",
              "      <td>C10014</td>\n",
              "      <td>Registered design number: 275937.  Proprietor: Benham and Froud.  Address: Chandos Metal Works, 40, 41 and 42 Chandos Street,...</td>\n",
              "    </tr>\n",
              "    <tr>\n",
              "      <th>4</th>\n",
              "      <td>C12894455</td>\n",
              "      <td>C10005</td>\n",
              "      <td>Registered design number: 47236.  Proprietor: R Dalglish, Falconer and Company.  Address: Lennox Mill, Lennox Town, North Bri...</td>\n",
              "    </tr>\n",
              "  </tbody>\n",
              "</table>\n",
              "</div>"
            ],
            "text/plain": [
              "        IAID  ...                                                                                                                        Description\n",
              "0  C13122444  ...   Registered design number: 381468.  Proprietor: The Strines Printing Company.  Address: 19 George Street, Manchester, Lancashi...\n",
              "1  C13089234  ...   Registered design number: 196086.  Proprietor: James Black and Company.  Address: 23 Royal Exchange Square, Glasgow, Scotland...\n",
              "2  C13195333  ...   Statements of Service, Royal Artillery 10 Battalion Numbers 1 to 477.  This entry appears on opening 381; this number is impr...\n",
              "3  C13175356  ...   Registered design number: 275937.  Proprietor: Benham and Froud.  Address: Chandos Metal Works, 40, 41 and 42 Chandos Street,...\n",
              "4  C12894455  ...   Registered design number: 47236.  Proprietor: R Dalglish, Falconer and Company.  Address: Lennox Mill, Lennox Town, North Bri...\n",
              "\n",
              "[5 rows x 3 columns]"
            ]
          },
          "metadata": {
            "tags": []
          },
          "execution_count": 19
        }
      ]
    },
    {
      "cell_type": "markdown",
      "metadata": {
        "id": "BkEdnTFIZ_xm"
      },
      "source": [
        "Next we will load a table of taxonomy category names which will be useful for understanding the various categories."
      ]
    },
    {
      "cell_type": "code",
      "metadata": {
        "id": "lNkdyBwML5Xg",
        "colab": {
          "base_uri": "https://localhost:8080/",
          "height": 373
        },
        "outputId": "2b12716e-ba4d-42a5-b779-5e1ad29467ba"
      },
      "source": [
        "taxonomy = pd.read_csv(data_folder + 'taxonomyids_and_names.txt',\n",
        "                           delimiter=\"|\", header=None, lineterminator='\\n')\n",
        "taxonomy.columns = [\"TAXID\",\"TaxonomyCategory\"]\n",
        "print(\"Number of rows:\",len(taxonomy))\n",
        "taxonomy.head(10)"
      ],
      "execution_count": 20,
      "outputs": [
        {
          "output_type": "stream",
          "text": [
            "Number of rows: 136\n"
          ],
          "name": "stdout"
        },
        {
          "output_type": "execute_result",
          "data": {
            "text/html": [
              "<div>\n",
              "<style scoped>\n",
              "    .dataframe tbody tr th:only-of-type {\n",
              "        vertical-align: middle;\n",
              "    }\n",
              "\n",
              "    .dataframe tbody tr th {\n",
              "        vertical-align: top;\n",
              "    }\n",
              "\n",
              "    .dataframe thead th {\n",
              "        text-align: right;\n",
              "    }\n",
              "</style>\n",
              "<table border=\"1\" class=\"dataframe\">\n",
              "  <thead>\n",
              "    <tr style=\"text-align: right;\">\n",
              "      <th></th>\n",
              "      <th>TAXID</th>\n",
              "      <th>TaxonomyCategory</th>\n",
              "    </tr>\n",
              "  </thead>\n",
              "  <tbody>\n",
              "    <tr>\n",
              "      <th>0</th>\n",
              "      <td>C10004</td>\n",
              "      <td>Archives and libraries</td>\n",
              "    </tr>\n",
              "    <tr>\n",
              "      <th>1</th>\n",
              "      <td>C10131</td>\n",
              "      <td>Europe and Russia</td>\n",
              "    </tr>\n",
              "    <tr>\n",
              "      <th>2</th>\n",
              "      <td>C10134</td>\n",
              "      <td>Local Government</td>\n",
              "    </tr>\n",
              "    <tr>\n",
              "      <th>3</th>\n",
              "      <td>C10114</td>\n",
              "      <td>Weapons</td>\n",
              "    </tr>\n",
              "    <tr>\n",
              "      <th>4</th>\n",
              "      <td>C10021</td>\n",
              "      <td>Construction industries</td>\n",
              "    </tr>\n",
              "    <tr>\n",
              "      <th>5</th>\n",
              "      <td>C10109</td>\n",
              "      <td>Travel and tourism</td>\n",
              "    </tr>\n",
              "    <tr>\n",
              "      <th>6</th>\n",
              "      <td>C10105</td>\n",
              "      <td>Sports</td>\n",
              "    </tr>\n",
              "    <tr>\n",
              "      <th>7</th>\n",
              "      <td>C10110</td>\n",
              "      <td>Transportation</td>\n",
              "    </tr>\n",
              "    <tr>\n",
              "      <th>8</th>\n",
              "      <td>C10103</td>\n",
              "      <td>Shipping</td>\n",
              "    </tr>\n",
              "    <tr>\n",
              "      <th>9</th>\n",
              "      <td>C10092</td>\n",
              "      <td>Army</td>\n",
              "    </tr>\n",
              "  </tbody>\n",
              "</table>\n",
              "</div>"
            ],
            "text/plain": [
              "    TAXID         TaxonomyCategory\n",
              "0  C10004   Archives and libraries\n",
              "1  C10131        Europe and Russia\n",
              "2  C10134         Local Government\n",
              "3  C10114                  Weapons\n",
              "4  C10021  Construction industries\n",
              "5  C10109       Travel and tourism\n",
              "6  C10105                   Sports\n",
              "7  C10110           Transportation\n",
              "8  C10103                 Shipping\n",
              "9  C10092                     Army"
            ]
          },
          "metadata": {
            "tags": []
          },
          "execution_count": 20
        }
      ]
    },
    {
      "cell_type": "markdown",
      "metadata": {
        "id": "LBUjEJJFbkml"
      },
      "source": [
        "With the list above to hand, you can view sample records for each category. Just change the value of the TAXID variable below with one from the list."
      ]
    },
    {
      "cell_type": "code",
      "metadata": {
        "id": "0fB4ef3ea6uD",
        "colab": {
          "base_uri": "https://localhost:8080/",
          "height": 202
        },
        "outputId": "33947ad9-1705-4af2-b03d-8fd75df215e2"
      },
      "source": [
        "TAXID = 'C10004'  # <- Change this value\n",
        "descriptions[descriptions.TAXID == TAXID].head(5)"
      ],
      "execution_count": 21,
      "outputs": [
        {
          "output_type": "execute_result",
          "data": {
            "text/html": [
              "<div>\n",
              "<style scoped>\n",
              "    .dataframe tbody tr th:only-of-type {\n",
              "        vertical-align: middle;\n",
              "    }\n",
              "\n",
              "    .dataframe tbody tr th {\n",
              "        vertical-align: top;\n",
              "    }\n",
              "\n",
              "    .dataframe thead th {\n",
              "        text-align: right;\n",
              "    }\n",
              "</style>\n",
              "<table border=\"1\" class=\"dataframe\">\n",
              "  <thead>\n",
              "    <tr style=\"text-align: right;\">\n",
              "      <th></th>\n",
              "      <th>IAID</th>\n",
              "      <th>TAXID</th>\n",
              "      <th>Description</th>\n",
              "    </tr>\n",
              "  </thead>\n",
              "  <tbody>\n",
              "    <tr>\n",
              "      <th>27242</th>\n",
              "      <td>C7052</td>\n",
              "      <td>C10004</td>\n",
              "      <td>Scope and ContentAgendas, minutes and supporting papers of the British Library Organising Committee.The papers include feasibi...</td>\n",
              "    </tr>\n",
              "    <tr>\n",
              "      <th>39556</th>\n",
              "      <td>C6811365</td>\n",
              "      <td>C10004</td>\n",
              "      <td>Historical Manuscripts Commission: Senior Editor</td>\n",
              "    </tr>\n",
              "    <tr>\n",
              "      <th>40680</th>\n",
              "      <td>C10718872</td>\n",
              "      <td>C10004</td>\n",
              "      <td>Copy letter W E Hayward to E Atkinson, Archivist British Transport Historical Records, 10 December 1963, introduces Michael Wi...</td>\n",
              "    </tr>\n",
              "    <tr>\n",
              "      <th>44575</th>\n",
              "      <td>C12765640</td>\n",
              "      <td>C10004</td>\n",
              "      <td>'Photograph of public library and Free South Church, Aberdeen, 10,828'.  Copyright owner of work: G W Wilson &amp; Company Limite...</td>\n",
              "    </tr>\n",
              "    <tr>\n",
              "      <th>52247</th>\n",
              "      <td>C16759363</td>\n",
              "      <td>C10004</td>\n",
              "      <td>Public Record Office: general correspondence; PRO 1</td>\n",
              "    </tr>\n",
              "  </tbody>\n",
              "</table>\n",
              "</div>"
            ],
            "text/plain": [
              "            IAID  ...                                                                                                                        Description\n",
              "27242      C7052  ...  Scope and ContentAgendas, minutes and supporting papers of the British Library Organising Committee.The papers include feasibi...\n",
              "39556   C6811365  ...                                                                                  Historical Manuscripts Commission: Senior Editor \n",
              "40680  C10718872  ...  Copy letter W E Hayward to E Atkinson, Archivist British Transport Historical Records, 10 December 1963, introduces Michael Wi...\n",
              "44575  C12765640  ...   'Photograph of public library and Free South Church, Aberdeen, 10,828'.  Copyright owner of work: G W Wilson & Company Limite...\n",
              "52247  C16759363  ...                                                                               Public Record Office: general correspondence; PRO 1 \n",
              "\n",
              "[5 rows x 3 columns]"
            ]
          },
          "metadata": {
            "tags": []
          },
          "execution_count": 21
        }
      ]
    },
    {
      "cell_type": "markdown",
      "metadata": {
        "id": "fdM_FoUTp1YL"
      },
      "source": [
        "The previous list was just from a lookup table. We can join this lookup to our Discovery data to get counts by category, with descriptions. The following code produces a summary table showing counts per category. **Are you surprised by the top category?**\n",
        "\n",
        "Change the value of N if you wish to see more rows.\n",
        "\n"
      ]
    },
    {
      "cell_type": "code",
      "metadata": {
        "id": "SAdG1orTX-FQ",
        "colab": {
          "base_uri": "https://localhost:8080/",
          "height": 355
        },
        "outputId": "0c0a176c-408c-4474-ecd6-7d12f74cfeeb"
      },
      "source": [
        "N = 10\n",
        "topN = pd.merge(descriptions, taxonomy, how = 'inner').groupby(['TAXID', 'TaxonomyCategory']).size().reset_index(name='Count').sort_values('Count', ascending=False).head(N)\n",
        "topN"
      ],
      "execution_count": 22,
      "outputs": [
        {
          "output_type": "execute_result",
          "data": {
            "text/html": [
              "<div>\n",
              "<style scoped>\n",
              "    .dataframe tbody tr th:only-of-type {\n",
              "        vertical-align: middle;\n",
              "    }\n",
              "\n",
              "    .dataframe tbody tr th {\n",
              "        vertical-align: top;\n",
              "    }\n",
              "\n",
              "    .dataframe thead th {\n",
              "        text-align: right;\n",
              "    }\n",
              "</style>\n",
              "<table border=\"1\" class=\"dataframe\">\n",
              "  <thead>\n",
              "    <tr style=\"text-align: right;\">\n",
              "      <th></th>\n",
              "      <th>TAXID</th>\n",
              "      <th>TaxonomyCategory</th>\n",
              "      <th>Count</th>\n",
              "    </tr>\n",
              "  </thead>\n",
              "  <tbody>\n",
              "    <tr>\n",
              "      <th>37</th>\n",
              "      <td>C10039</td>\n",
              "      <td>Food and drink</td>\n",
              "      <td>23243</td>\n",
              "    </tr>\n",
              "    <tr>\n",
              "      <th>89</th>\n",
              "      <td>C10092</td>\n",
              "      <td>Army</td>\n",
              "      <td>17113</td>\n",
              "    </tr>\n",
              "    <tr>\n",
              "      <th>4</th>\n",
              "      <td>C10005</td>\n",
              "      <td>Art, architecture and design</td>\n",
              "      <td>14114</td>\n",
              "    </tr>\n",
              "    <tr>\n",
              "      <th>57</th>\n",
              "      <td>C10060</td>\n",
              "      <td>Medals</td>\n",
              "      <td>12049</td>\n",
              "    </tr>\n",
              "    <tr>\n",
              "      <th>69</th>\n",
              "      <td>C10072</td>\n",
              "      <td>Navy</td>\n",
              "      <td>10691</td>\n",
              "    </tr>\n",
              "    <tr>\n",
              "      <th>1</th>\n",
              "      <td>C10002</td>\n",
              "      <td>Air Force</td>\n",
              "      <td>6682</td>\n",
              "    </tr>\n",
              "    <tr>\n",
              "      <th>55</th>\n",
              "      <td>C10058</td>\n",
              "      <td>Maps and plans</td>\n",
              "      <td>5805</td>\n",
              "    </tr>\n",
              "    <tr>\n",
              "      <th>128</th>\n",
              "      <td>C10131</td>\n",
              "      <td>Europe and Russia</td>\n",
              "      <td>4790</td>\n",
              "    </tr>\n",
              "    <tr>\n",
              "      <th>124</th>\n",
              "      <td>C10127</td>\n",
              "      <td>Indian Subcontinent</td>\n",
              "      <td>3275</td>\n",
              "    </tr>\n",
              "    <tr>\n",
              "      <th>103</th>\n",
              "      <td>C10106</td>\n",
              "      <td>Taxation</td>\n",
              "      <td>3144</td>\n",
              "    </tr>\n",
              "  </tbody>\n",
              "</table>\n",
              "</div>"
            ],
            "text/plain": [
              "      TAXID              TaxonomyCategory  Count\n",
              "37   C10039                Food and drink  23243\n",
              "89   C10092                          Army  17113\n",
              "4    C10005  Art, architecture and design  14114\n",
              "57   C10060                        Medals  12049\n",
              "69   C10072                          Navy  10691\n",
              "1    C10002                     Air Force   6682\n",
              "55   C10058                Maps and plans   5805\n",
              "128  C10131             Europe and Russia   4790\n",
              "124  C10127           Indian Subcontinent   3275\n",
              "103  C10106                      Taxation   3144"
            ]
          },
          "metadata": {
            "tags": []
          },
          "execution_count": 22
        }
      ]
    },
    {
      "cell_type": "markdown",
      "metadata": {
        "id": "RkioS0MFcbBS"
      },
      "source": [
        "It is probably worth looking at some sample rows for 'Food and drink' to check if they look reasonable..."
      ]
    },
    {
      "cell_type": "code",
      "metadata": {
        "id": "DnDD5Vv4cZ93",
        "colab": {
          "base_uri": "https://localhost:8080/",
          "height": 355
        },
        "outputId": "a88165bc-1a5d-417e-f771-bedbad7077f5"
      },
      "source": [
        "TAXID = 'C10039'  # <- Change this value\n",
        "descriptions[descriptions.TAXID == TAXID].head(10)"
      ],
      "execution_count": 23,
      "outputs": [
        {
          "output_type": "execute_result",
          "data": {
            "text/html": [
              "<div>\n",
              "<style scoped>\n",
              "    .dataframe tbody tr th:only-of-type {\n",
              "        vertical-align: middle;\n",
              "    }\n",
              "\n",
              "    .dataframe tbody tr th {\n",
              "        vertical-align: top;\n",
              "    }\n",
              "\n",
              "    .dataframe thead th {\n",
              "        text-align: right;\n",
              "    }\n",
              "</style>\n",
              "<table border=\"1\" class=\"dataframe\">\n",
              "  <thead>\n",
              "    <tr style=\"text-align: right;\">\n",
              "      <th></th>\n",
              "      <th>IAID</th>\n",
              "      <th>TAXID</th>\n",
              "      <th>Description</th>\n",
              "    </tr>\n",
              "  </thead>\n",
              "  <tbody>\n",
              "    <tr>\n",
              "      <th>26</th>\n",
              "      <td>C16155353</td>\n",
              "      <td>C10039</td>\n",
              "      <td>Certificate Number: R1/120368.  Date of Certificate: 30 July 1969.</td>\n",
              "    </tr>\n",
              "    <tr>\n",
              "      <th>35</th>\n",
              "      <td>C14187904</td>\n",
              "      <td>C10039</td>\n",
              "      <td>Robert Cutler, Purser of the Royal Oak. He delivered in July the remains of provisions on the Royal Oak but was refused a rec...</td>\n",
              "    </tr>\n",
              "    <tr>\n",
              "      <th>97</th>\n",
              "      <td>C15342276</td>\n",
              "      <td>C10039</td>\n",
              "      <td>Certificate Number: R1/95873.  Date of Certificate: 18 January 1968.</td>\n",
              "    </tr>\n",
              "    <tr>\n",
              "      <th>98</th>\n",
              "      <td>C15308967</td>\n",
              "      <td>C10039</td>\n",
              "      <td>Certificate Number: R1/91873.  Date of Certificate: 31 October 1967.</td>\n",
              "    </tr>\n",
              "    <tr>\n",
              "      <th>104</th>\n",
              "      <td>C16155858</td>\n",
              "      <td>C10039</td>\n",
              "      <td>Certificate Number: R1/120873.  Date of Certificate: 22 August 1969.</td>\n",
              "    </tr>\n",
              "    <tr>\n",
              "      <th>107</th>\n",
              "      <td>C15732652</td>\n",
              "      <td>C10039</td>\n",
              "      <td>Certificate Number: R1/116373.  Date of Certificate: 23 April 1969.</td>\n",
              "    </tr>\n",
              "    <tr>\n",
              "      <th>117</th>\n",
              "      <td>C16120481</td>\n",
              "      <td>C10039</td>\n",
              "      <td>Certificate Number: R1/86373.  Date of Certificate: 27 July 1967.</td>\n",
              "    </tr>\n",
              "    <tr>\n",
              "      <th>118</th>\n",
              "      <td>C16082377</td>\n",
              "      <td>C10039</td>\n",
              "      <td>Certificate Number: R1/75873.  Date of Certificate: 17 October 1966.</td>\n",
              "    </tr>\n",
              "    <tr>\n",
              "      <th>119</th>\n",
              "      <td>C15970908</td>\n",
              "      <td>C10039</td>\n",
              "      <td>Certificate Number: R1/36373.  Date of Certificate: 29 May 1961.</td>\n",
              "    </tr>\n",
              "    <tr>\n",
              "      <th>134</th>\n",
              "      <td>C15096807</td>\n",
              "      <td>C10039</td>\n",
              "      <td>Certificate Number: R1/32373.  Date of Certificate: 30 August 1960.</td>\n",
              "    </tr>\n",
              "  </tbody>\n",
              "</table>\n",
              "</div>"
            ],
            "text/plain": [
              "          IAID  ...                                                                                                                        Description\n",
              "26   C16155353  ...                                                               Certificate Number: R1/120368.  Date of Certificate: 30 July 1969.  \n",
              "35   C14187904  ...   Robert Cutler, Purser of the Royal Oak. He delivered in July the remains of provisions on the Royal Oak but was refused a rec...\n",
              "97   C15342276  ...                                                             Certificate Number: R1/95873.  Date of Certificate: 18 January 1968.  \n",
              "98   C15308967  ...                                                             Certificate Number: R1/91873.  Date of Certificate: 31 October 1967.  \n",
              "104  C16155858  ...                                                             Certificate Number: R1/120873.  Date of Certificate: 22 August 1969.  \n",
              "107  C15732652  ...                                                              Certificate Number: R1/116373.  Date of Certificate: 23 April 1969.  \n",
              "117  C16120481  ...                                                                Certificate Number: R1/86373.  Date of Certificate: 27 July 1967.  \n",
              "118  C16082377  ...                                                             Certificate Number: R1/75873.  Date of Certificate: 17 October 1966.  \n",
              "119  C15970908  ...                                                                 Certificate Number: R1/36373.  Date of Certificate: 29 May 1961.  \n",
              "134  C15096807  ...                                                              Certificate Number: R1/32373.  Date of Certificate: 30 August 1960.  \n",
              "\n",
              "[10 rows x 3 columns]"
            ]
          },
          "metadata": {
            "tags": []
          },
          "execution_count": 23
        }
      ]
    },
    {
      "cell_type": "markdown",
      "metadata": {
        "id": "TWsypJIMkx7L"
      },
      "source": [
        "Something odd has happened there. We could ask for the top 20, or 50, or 100 rows but there are over 23,000 of them. A better way to summarise the records might be to count words. So let's do that for the food and drink category (you can also change the TAXID value to look at other categories if you want to, as well as varying the MAX_FEATURES variable to see more top words). "
      ]
    },
    {
      "cell_type": "code",
      "metadata": {
        "id": "sP_FWZAWgwna",
        "colab": {
          "base_uri": "https://localhost:8080/"
        },
        "outputId": "98ab2c36-f185-4a4f-d248-c21a1f8d9766"
      },
      "source": [
        "TAXID = 'C10039'\n",
        "MAX_FEATURES = 10\n",
        "\n",
        "count_vectorizer = CountVectorizer(max_features = MAX_FEATURES)\n",
        "word_counts = count_vectorizer.fit_transform(descriptions[descriptions.TAXID == TAXID].Description)\n",
        "tfidf_vocab = count_vectorizer.get_feature_names()\n",
        "\n",
        "nz = word_counts.nonzero()\n",
        "ft_names = count_vectorizer.get_feature_names()\n",
        "counts = [x for x in zip(ft_names,np.asarray(word_counts.sum(axis=0))[0])]\n",
        "counts.sort(key=itemgetter(1), reverse=True)\n",
        "counts"
      ],
      "execution_count": 24,
      "outputs": [
        {
          "output_type": "execute_result",
          "data": {
            "text/plain": [
              "[('certificate', 44219),\n",
              " ('of', 23406),\n",
              " ('date', 22432),\n",
              " ('number', 22307),\n",
              " ('r1', 5921),\n",
              " ('july', 2125),\n",
              " ('october', 2026),\n",
              " ('august', 2008),\n",
              " ('r3', 1970),\n",
              " ('november', 1952)]"
            ]
          },
          "metadata": {
            "tags": []
          },
          "execution_count": 24
        }
      ]
    },
    {
      "cell_type": "markdown",
      "metadata": {
        "id": "TqBX9EqKl-gk"
      },
      "source": [
        "This suggests something is wrong with our data. It was sourced from a test system and so there may have been an issue when it was loaded, or somewhere else in the pipeline. For this exercise we will leave it out of our ML process, but hopefully it provides a good example of why digging into the data is so important.\n",
        "\n",
        "**Check the word counts of some of the other categories in the top 10 to reassure yourself that they're ok**\n",
        "\n",
        "**If there are any you don't like the look of, add them to the EXCLUDE list below.** (to add to the EXCLUDE list you will need to separate values with a comma and remember to put them in quotes e.g. ['ABC','DEF','GHI']). We are going to generate the dataset for the remaining tutorials from the list produced below."
      ]
    },
    {
      "cell_type": "code",
      "metadata": {
        "id": "k-7lLXzznUAW",
        "colab": {
          "base_uri": "https://localhost:8080/",
          "height": 355
        },
        "outputId": "dea9f3c7-8a64-4cf8-849a-dee617e860f9"
      },
      "source": [
        "EXCLUDE = ['C10039']\n",
        "N = 10\n",
        "topN = pd.merge(descriptions[~descriptions['TAXID'].isin(EXCLUDE)], taxonomy, how = 'inner').groupby(['TAXID', 'TaxonomyCategory']).size().reset_index(name='Count').sort_values('Count', ascending=False).head(N)\n",
        "topN"
      ],
      "execution_count": 25,
      "outputs": [
        {
          "output_type": "execute_result",
          "data": {
            "text/html": [
              "<div>\n",
              "<style scoped>\n",
              "    .dataframe tbody tr th:only-of-type {\n",
              "        vertical-align: middle;\n",
              "    }\n",
              "\n",
              "    .dataframe tbody tr th {\n",
              "        vertical-align: top;\n",
              "    }\n",
              "\n",
              "    .dataframe thead th {\n",
              "        text-align: right;\n",
              "    }\n",
              "</style>\n",
              "<table border=\"1\" class=\"dataframe\">\n",
              "  <thead>\n",
              "    <tr style=\"text-align: right;\">\n",
              "      <th></th>\n",
              "      <th>TAXID</th>\n",
              "      <th>TaxonomyCategory</th>\n",
              "      <th>Count</th>\n",
              "    </tr>\n",
              "  </thead>\n",
              "  <tbody>\n",
              "    <tr>\n",
              "      <th>88</th>\n",
              "      <td>C10092</td>\n",
              "      <td>Army</td>\n",
              "      <td>17113</td>\n",
              "    </tr>\n",
              "    <tr>\n",
              "      <th>4</th>\n",
              "      <td>C10005</td>\n",
              "      <td>Art, architecture and design</td>\n",
              "      <td>14114</td>\n",
              "    </tr>\n",
              "    <tr>\n",
              "      <th>56</th>\n",
              "      <td>C10060</td>\n",
              "      <td>Medals</td>\n",
              "      <td>12049</td>\n",
              "    </tr>\n",
              "    <tr>\n",
              "      <th>68</th>\n",
              "      <td>C10072</td>\n",
              "      <td>Navy</td>\n",
              "      <td>10691</td>\n",
              "    </tr>\n",
              "    <tr>\n",
              "      <th>1</th>\n",
              "      <td>C10002</td>\n",
              "      <td>Air Force</td>\n",
              "      <td>6682</td>\n",
              "    </tr>\n",
              "    <tr>\n",
              "      <th>54</th>\n",
              "      <td>C10058</td>\n",
              "      <td>Maps and plans</td>\n",
              "      <td>5805</td>\n",
              "    </tr>\n",
              "    <tr>\n",
              "      <th>127</th>\n",
              "      <td>C10131</td>\n",
              "      <td>Europe and Russia</td>\n",
              "      <td>4790</td>\n",
              "    </tr>\n",
              "    <tr>\n",
              "      <th>123</th>\n",
              "      <td>C10127</td>\n",
              "      <td>Indian Subcontinent</td>\n",
              "      <td>3275</td>\n",
              "    </tr>\n",
              "    <tr>\n",
              "      <th>102</th>\n",
              "      <td>C10106</td>\n",
              "      <td>Taxation</td>\n",
              "      <td>3144</td>\n",
              "    </tr>\n",
              "    <tr>\n",
              "      <th>104</th>\n",
              "      <td>C10108</td>\n",
              "      <td>Trade and commerce</td>\n",
              "      <td>2891</td>\n",
              "    </tr>\n",
              "  </tbody>\n",
              "</table>\n",
              "</div>"
            ],
            "text/plain": [
              "      TAXID              TaxonomyCategory  Count\n",
              "88   C10092                          Army  17113\n",
              "4    C10005  Art, architecture and design  14114\n",
              "56   C10060                        Medals  12049\n",
              "68   C10072                          Navy  10691\n",
              "1    C10002                     Air Force   6682\n",
              "54   C10058                Maps and plans   5805\n",
              "127  C10131             Europe and Russia   4790\n",
              "123  C10127           Indian Subcontinent   3275\n",
              "102  C10106                      Taxation   3144\n",
              "104  C10108            Trade and commerce   2891"
            ]
          },
          "metadata": {
            "tags": []
          },
          "execution_count": 25
        }
      ]
    },
    {
      "cell_type": "markdown",
      "metadata": {
        "id": "ZI3BUcKDo_HZ"
      },
      "source": [
        "To end this tutorial, we will write a new dataset using only the top 10 categories. This will be used in the next tutorial. You're welcome to use more categories if you wish, but do think of what a confusion matrix with 135 columns and rows will look like before you go for too many!"
      ]
    },
    {
      "cell_type": "code",
      "metadata": {
        "id": "U1iK-zUzpaIW"
      },
      "source": [
        "descriptions[descriptions.TAXID.isin(topN.TAXID)].to_csv(data_folder + \"topN_taxonomy.csv\",sep = \"|\")"
      ],
      "execution_count": 26,
      "outputs": []
    },
    {
      "cell_type": "markdown",
      "metadata": {
        "id": "5j8xFgt00xaF"
      },
      "source": [
        "That's the end of this tutorial. We have:\n",
        "\n",
        "\n",
        "\n",
        "*   Loaded the Taxonomy data\n",
        "*   Produced category summaries\n",
        "\n",
        "*   Produced word counts by category\n",
        "*   Identified a large data quality issue\n",
        "\n",
        "*   Created a new data extract for the next tutorial\n",
        "\n",
        "\n",
        "\n",
        "\n",
        "\n"
      ]
    },
    {
      "cell_type": "markdown",
      "metadata": {
        "id": "w_TgLRh2PcG7"
      },
      "source": [
        "Possible additions:\n",
        "\n",
        "Print rules out for a category.\n",
        "Identify key words per class which are unique to that class."
      ]
    }
  ]
}