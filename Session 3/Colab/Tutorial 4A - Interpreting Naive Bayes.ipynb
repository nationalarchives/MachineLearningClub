{
  "nbformat": 4,
  "nbformat_minor": 0,
  "metadata": {
    "colab": {
      "name": "Tutorial 4A - Interpreting Naive Bayes.ipynb",
      "provenance": [],
      "collapsed_sections": []
    },
    "kernelspec": {
      "name": "python3",
      "display_name": "Python 3"
    }
  },
  "cells": [
    {
      "cell_type": "markdown",
      "metadata": {
        "id": "Liumf1BGmJC4"
      },
      "source": [
        "## **Interpreting the Naive Bayes algorithm**\n",
        "\n",
        "**This tutorial uses data created by Tutorial 3. If you haven't already done that one, please go through it now**\n",
        "\n",
        "In the previous tutorial we tested 3 algorithms in our Taxonomy classification task. In this tutorial and its companion 4B we will take a closer look at the predictions from two of the algorithms. For this tutorial we will concentrate on Naive Bayes.\n",
        "\n",
        "There are three parts to this tutorial:\n",
        "\n",
        "\n",
        "1.   An introduction to probability and Bayes' Rule\n",
        "2.   The inner workings of the Naive Bayes classifier\n",
        "3.   Understanding the outputs of the Naive Bayes classifier\n",
        "\n",
        "The first part is an in depth description of an important formula used in probability and statistics known as Bayes' Rule (named after the Reverend Thomas Bayes who discovered it in the 18th Century). It is an incredibly useful formula and is far more simple than it may at first appear. If you can multiply numbers with a calculator (or pen and paper) you can use the formula - but you're not going to for this tutorial. The aim is to show that there is no real mystery to the Naive Bayes algorithm.\n",
        "\n",
        "The second part then applies your new found knowledge of Bayes' formula to look under the bonnet of Naive Bayes. This will use a simple example and we can see how the algorithm makes its decisions.\n",
        "\n",
        "Finally, we will take the same look at the model we built in Tutorial 3. This is an opportunity to think from the TNA perspective about how we might 'show our workings' to the public if we were to use ML to label our documents. Once you've read through the explanation of Bayes's Rule it should be clear that we couldn't expect our users to learn about statistics. **How can we do it better?** At the same time, an FoI request may ask to explain why certain documents were classified as X (imagine we're not doing Taxonomy but Sensitivity instead). **Would what you see below be detailed enough to satisfy that request?**\n",
        "\n",
        "These questions will set us up nicely for the final ML session in a few weeks.\n",
        "\n",
        "\n",
        "\n",
        "\n",
        "\n",
        "\n",
        "\n",
        "\n"
      ]
    },
    {
      "cell_type": "markdown",
      "metadata": {
        "id": "gzw77XX7BNNu"
      },
      "source": [
        "As usual we will link up to Google Drive"
      ]
    },
    {
      "cell_type": "code",
      "metadata": {
        "id": "3E8Vh0sOBXDl"
      },
      "source": [
        "import sys\n",
        "import os"
      ],
      "execution_count": 1,
      "outputs": []
    },
    {
      "cell_type": "code",
      "metadata": {
        "id": "zfRfQm8WMBBT"
      },
      "source": [
        "# Where do you want to get data from - Google Drive or Github\r\n",
        "data_source = \"Github\"  # Change to either Github or Drive - if Drive, copy the data into a folder called \"Data\" within your \"My Drive folder\""
      ],
      "execution_count": 2,
      "outputs": []
    },
    {
      "cell_type": "markdown",
      "metadata": {
        "id": "sbs4K-JzBSm_"
      },
      "source": [
        "And set up the folder for data files"
      ]
    },
    {
      "cell_type": "code",
      "metadata": {
        "id": "mX8LgpKkMTp5",
        "colab": {
          "base_uri": "https://localhost:8080/"
        },
        "outputId": "5e92f46e-8ff4-43cf-f2d5-756b8ca7fd60"
      },
      "source": [
        "if data_source == \"Github\":\r\n",
        "    !git clone https://github.com/nationalarchives/MachineLearningClub.git\r\n",
        "    sys.path.insert(0, 'MachineLearningClub')\r\n",
        "    data_folder = \"MachineLearningClub/Session 3/Data/\"\r\n",
        "    os.listdir(data_folder)\r\n",
        "else:\r\n",
        "    # Connect to gdrive\r\n",
        "    from google.colab import drive\r\n",
        "    drive.mount('/content/gdrive')\r\n",
        "    data_folder = \"/content/gdrive/My Drive/Data/\"\r\n",
        "    os.listdir(data_folder)"
      ],
      "execution_count": 3,
      "outputs": [
        {
          "output_type": "stream",
          "text": [
            "Cloning into 'MachineLearningClub'...\n",
            "remote: Enumerating objects: 97, done.\u001b[K\n",
            "remote: Counting objects: 100% (97/97), done.\u001b[K\n",
            "remote: Compressing objects: 100% (97/97), done.\u001b[K\n",
            "remote: Total 97 (delta 32), reused 0 (delta 0), pack-reused 0\u001b[K\n",
            "Unpacking objects: 100% (97/97), done.\n"
          ],
          "name": "stdout"
        }
      ]
    },
    {
      "cell_type": "markdown",
      "metadata": {
        "id": "acrFqgYmmwmF"
      },
      "source": [
        "This piece of code imports the libraries that we will be using in the first part of this notebook."
      ]
    },
    {
      "cell_type": "code",
      "metadata": {
        "id": "WY6Or3c1tB-m"
      },
      "source": [
        "import numpy as np\n",
        "import pandas as pd\n",
        "import matplotlib.pyplot as plt\n",
        "import os\n",
        "import sklearn      # The most common Python Machine Learning library - scikit learn\n",
        "from sklearn.model_selection import train_test_split  # Used to create training and test data\n",
        "from sklearn.metrics import confusion_matrix, accuracy_score, f1_score, balanced_accuracy_score\n",
        "import seaborn as sns\n",
        "from sklearn import svm\n",
        "from sklearn.ensemble import RandomForestClassifier, GradientBoostingClassifier\n",
        "from sklearn.naive_bayes import GaussianNB, MultinomialNB\n",
        "from sklearn.feature_extraction.text import TfidfVectorizer\n",
        "from sklearn.linear_model import SGDClassifier, LogisticRegression\n",
        "from sklearn.tree import DecisionTreeClassifier\n",
        "from sklearn.feature_extraction.text import TfidfVectorizer, CountVectorizer\n",
        "from sklearn.metrics import precision_score, recall_score, confusion_matrix, classification_report, accuracy_score, f1_score\n",
        "from operator import itemgetter\n",
        "from nltk.stem.porter import *\n",
        "import pickle\n",
        "from nltk import toktok    "
      ],
      "execution_count": 5,
      "outputs": []
    },
    {
      "cell_type": "markdown",
      "metadata": {
        "id": "6-5hs57dCNoM"
      },
      "source": [
        "This tutorial uses datasets created by tutorial 3. \n",
        "\n",
        "The files are called:\n",
        "\n",
        "\n",
        "*   model_NB_ngram.pck\n",
        "*   ngram_tfidf.pck\n",
        "\n",
        "\n",
        "\n",
        "**If they don't appear in the list output by the following line of code then rerun tutorial 3.**\n",
        "\n"
      ]
    },
    {
      "cell_type": "code",
      "metadata": {
        "id": "U1Krv8EYCnqK",
        "colab": {
          "base_uri": "https://localhost:8080/"
        },
        "outputId": "490486b7-89d1-42e0-8b7e-e918c1c48cd1"
      },
      "source": [
        "os.listdir(data_folder)"
      ],
      "execution_count": 6,
      "outputs": [
        {
          "output_type": "execute_result",
          "data": {
            "text/plain": [
              "['ngram_tfidf.pck',\n",
              " 'taxonomyids_and_names.txt',\n",
              " 'topN_taxonomy.csv',\n",
              " 'word_tfidf.pck',\n",
              " 'taxonomy_descriptions.txt',\n",
              " 'stemmed_ngram_tfidf.pck',\n",
              " 'model_NB_ngram.pck']"
            ]
          },
          "metadata": {
            "tags": []
          },
          "execution_count": 6
        }
      ]
    },
    {
      "cell_type": "markdown",
      "metadata": {
        "id": "VSQE2UXNM0Av"
      },
      "source": [
        "**Introduction to Bayes Rule**\n",
        "\n",
        "Before reading this section you may like to watch the following video from the World Science Festival about Bayesian probability: https://www.youtube.com/watch?v=BcvLAw-JRss\n",
        "\n",
        "\n",
        "First of all we need to introduce some notation:\n",
        "\n",
        "\n",
        "*   X and Y are outcomes of experiments. X could be \"A flipped coin landing on Heads\" or \"Rolling a 1 on a 6 sided die\" or \"Rolling an even number on the same die\"\n",
        "*   P(X) means the \"Probability that X will happen\"\n",
        "*   P(X | Y) means the \"Probability that X will happen when we know that Y has already happened\"\n",
        "\n",
        "*   If we multiply two probabilities it looks like this: P(X)P(Y)\n",
        "\n",
        "\n",
        "\n",
        "\n",
        "\n"
      ]
    },
    {
      "cell_type": "markdown",
      "metadata": {
        "id": "SaAvO9INQaer"
      },
      "source": [
        "**What is Bayes' Rule?**\n",
        "\n",
        "Imagine there are two bags of sweets. In each bag the sweets are either in blue or red wrappers. In bag A, there are 20 sweets, 15 blue and 5 red. In bag B, there are 30 sweets, 5 blue and 25 red. Without you seeing which bag they chose someone hands you a red sweet. You have one extra bit of information, you've been told that the red sweets in bag A are horrid. Do you eat the sweet, or are you going to be, horror of horrors, impolite and turn down the offer?\n",
        "\n",
        "You can already work out from the numbers above what the chances of picking a red sweet are if you have bag A or using the terminology above:\n",
        "$P(Red | Bag A)$\n",
        "\n",
        "However, what you really want to know is the reverse: \"what are the chances of the sweet coming from bag A if I already know it is red?\". Or in probability notation:\n",
        "\n",
        "$P(Bag A | Red)$\n",
        "\n",
        "This is where Bayes' Rule comes in as it is a simple (once you understand it) formula for reversing probabilities. It is named Bayes' Rule after Reverend Thomas Bayes and was published posthumously after his death in 1763 (https://en.wikipedia.org/wiki/Bayes%27_theorem)."
      ]
    },
    {
      "cell_type": "markdown",
      "metadata": {
        "id": "eIor5mzfCsni"
      },
      "source": [
        "##The Bayes formula:\n",
        "\n",
        "\n",
        "$P(Hypothesis | Evidence) = \\frac{P(Evidence | Hypothesis)P(Hypothesis)}{P(Evidence)}$\n",
        "\n",
        "If this formula send you into a cold sweat, don't worry we will break it down piece by piece. The bit under the horizontal line will soon disappear, and we'll be left with multiplying two numbers together."
      ]
    },
    {
      "cell_type": "markdown",
      "metadata": {
        "id": "Ky_gM-KTpRdy"
      },
      "source": [
        "It is also helpful to think of this formula as a process that we use ourselves every day. We start out with some idea about the world (our hypothesis) then we are presented with some new evidence, and we update our idea based on that evidence. That's what we should do anyway!\n",
        "\n",
        "If I start my day thinking there is a 1% chance of it raining, then I see a dark cloud on the horizon, I should update my belief in the likelihood of rain."
      ]
    },
    {
      "cell_type": "markdown",
      "metadata": {
        "id": "2noCq-yBUSS9"
      },
      "source": [
        "## Explaining the formula\n",
        "\n",
        "Back to the formula - it is made up of four terms:\n",
        "\n",
        "\n",
        "*   $P(Hypotheses)$: This is known as the 'Prior Probability' and is the probability that we would assign to our hypothesis before looking at the evidence. In the case of the sweets I have two hypotheses available to me, either the sweet came from bag A, or it came from bag B. There is no reason (we know of) why when selecting the bag of sweets a person would favour A or B. So without looking at the sweet we would say it's 50:50 whether it came from A or B. So we give each hypothesis a prior probability of 0.5. In the notation above: $P(A) = P(B) = 0.5$\n",
        "*   $P(Evidence)$: For this example this is just the probability of getting a red ball irrespective of which bag it came from. In many situations this term can be tricky to calculate (although not in this one), but it turns out it can often be ignored completely. And this is one of those cases! The reason it can be ignored is that we want to compare the relative likelihood of A and B. Since this term is the same in each cancellation it cancels itself out.\n",
        "\n",
        "*   $P(Evidence | Hypothesis)$: This is known as the likelihood term and is generally much easier to calculate than its opposite number on the other side of the equals sign (or we wouldn't need Bayes' Rule). Our evidence is that we've got a red sweet. If our hypothesis is that it came from bag A then the likelihood is the proportion of sweets in that bag which are red, 5 out of 20 (0.25). For bag B it would be 25 out of 30 (0.833).\n",
        "*   $P(Hypothesis | Evidence)$: This is known as the 'Posterior Probability' (remember we started with a Prior). It gives us our updated belief in the probability of whichever hypothesis we are testing.\n",
        "\n",
        "That's it, we only need to multiply two numbers together for each possible hypothesis. We can then compare the results to see which is the most likely scenario. You may notice in the calculations I've used an $\\alpha$ instead of an equals sign. This symbol just means 'proportional to' and is used because I ditched the P(Evidence) part of the calculation.\n",
        "\n",
        "\n",
        "\n"
      ]
    },
    {
      "cell_type": "markdown",
      "metadata": {
        "id": "n3yf1ZLscdUA"
      },
      "source": [
        "**A worked example**\n",
        "\n",
        "Let's run through the calculations and then we can move on to applying what you've learned to text classification:\n",
        "\n",
        "P(A | Red) $\\alpha$ P(Red | A) * P(A) = 0.25 * 0.5 = 0.125\n",
        "\n",
        "P(B | Red) $\\alpha$ P(Red | B) * P(B) = 0.833 * 0.5 = 0.4165\n",
        "\n",
        "If you divide the 2nd number by the 1st, you find that we are over 3 times more confident that the sweet came from bag B - so I eat the sweet and avoid the awkward situation of mumbling something about 'saving it for later'.\n",
        "\n",
        "It's worth pointing out that these aren't technically probabilities. If they were they would add to 1. We would need to use the P(evidence) term to get proper probabilities, but they are good enough for weighing up which is the most likely scenario."
      ]
    },
    {
      "cell_type": "markdown",
      "metadata": {
        "id": "lcbQr89meLaQ"
      },
      "source": [
        "**My friend the prankster**\n",
        "\n",
        "Now, what happens if I know that my friend who passed me the sweet is actually an evil prankster. I'm now 90% sure they have purposefully chosen bag A because they know it has the horrible sweet (their poker face prevents them giving away the answer). In this case we can change our calculation by using a different prior probability for each bag. Now P(A) is 0.9 (90%) which leaves P(B) as 0.1 (the remaining 10%). Here are the new calculations:\n",
        "\n",
        "P(A | Red) $\\alpha$ P(Red | A) * P(A) = 0.25 * 0.9 = 0.225\n",
        "\n",
        "P(B | Red) $\\alpha$ P(Red | B) * P(B) = 0.833 * 0.1 = 0.0833\n",
        "\n",
        "I'm now nearly 3 times more confident that this is from bag A and therefore one of the horrid sweets. \"Oh no, please I insist, you have it\", I say to my friend."
      ]
    },
    {
      "cell_type": "markdown",
      "metadata": {
        "id": "RgF1I1zkf2B4"
      },
      "source": [
        "Bayes' Rule has been controversial in the mathematical world over the centuries but it is now heavily used in all sorts of areas. The ability to combine our own subjective (and expert) knowledge of the world, through the prior, with hard statistical evidence, to come up with a number that would be too hard to measure statistically makes it a very powerful tool in the data scientist's toolkit."
      ]
    },
    {
      "cell_type": "markdown",
      "metadata": {
        "id": "d0pOvyyug9ZS"
      },
      "source": [
        "**Applying Bayes' Rule to text classification**\n",
        "\n",
        "In the previous tutorial you used the Naive Bayes classifier as one of the three algorithms. I will explain the Naive part shortly but using what we've learned above we can already begin to see how this classifier might work.\n",
        "\n",
        "Given a record description (the evidence) we want to predict the taxonomy class. There are 10 possible classes, so I have 10 hypotheses to test. The prior probability for any chosen class (e.g Medals) is the proportion of records in my training data which are assigned that class. We already know this from summarising records in tutorial 1.\n",
        "\n",
        "How do we calculate likelihoods? Well we know we have, say, 5000 features in our training data which we selected in tutorial 2. For each of the 10 classes we can count all of the words (or ngrams) in descriptions from that class, then count how many times each individual word (or ngram) occurs. We can then say something like \"given category 'Medals' the probability of the word 'medal' occurring in the description is 0.005\" (out of every 1000 words, 5 of them are 'medal').\n",
        "\n",
        "Then when we encounter the word 'medal' in a description we can look up the probability of it appearing in that class and plug it into the formula above.\n",
        "\n",
        "Now a description obviously contains multiple words, so what is the probability of 'this is a medal card'. If we assume that the probability of individual words is unaffected by those around it, then we can multiply probabilities together. We know from our own knowledge of language that saying that words are all independent of each other is a big assumption (I'm more likely to talk about 'grey rhinos' and 'green apples' than 'green rhinos' and 'grey apples') but it turns out that the model still works pretty well. This is where the Naive part comes from, it uses a very Naive assumption about language. As the statistician George Box said, **\"all models are wrong, some are useful\"**. Naive Bayes is one of the useful ones.\n",
        "\n",
        "We will now try a toy example before examining the model we built in tutorial 3.\n"
      ]
    },
    {
      "cell_type": "markdown",
      "metadata": {
        "id": "9H3bdf8xDjQm"
      },
      "source": [
        "**The inner workings of the Naive Bayes classifier**\n",
        "\n",
        "We will start by creating some data to work with. Here are six sentences and each has been classified as type 'C' or type 'D'."
      ]
    },
    {
      "cell_type": "code",
      "metadata": {
        "id": "y82-2sbcE7Qj",
        "colab": {
          "base_uri": "https://localhost:8080/",
          "height": 233
        },
        "outputId": "8e2d5f33-240c-4d84-bfee-df4b7b330854"
      },
      "source": [
        "data = pd.DataFrame({'id':[1,2,3,4,5,6], \n",
        "                     'sentence': ['the cat sat on the mat','the little dog laughed','the cat was little','the cat purred','the dog barked','the cat laughed at the dog'],\n",
        "                     'classification':['C','D','C','C','D','C']})\n",
        "data"
      ],
      "execution_count": 7,
      "outputs": [
        {
          "output_type": "execute_result",
          "data": {
            "text/html": [
              "<div>\n",
              "<style scoped>\n",
              "    .dataframe tbody tr th:only-of-type {\n",
              "        vertical-align: middle;\n",
              "    }\n",
              "\n",
              "    .dataframe tbody tr th {\n",
              "        vertical-align: top;\n",
              "    }\n",
              "\n",
              "    .dataframe thead th {\n",
              "        text-align: right;\n",
              "    }\n",
              "</style>\n",
              "<table border=\"1\" class=\"dataframe\">\n",
              "  <thead>\n",
              "    <tr style=\"text-align: right;\">\n",
              "      <th></th>\n",
              "      <th>id</th>\n",
              "      <th>sentence</th>\n",
              "      <th>classification</th>\n",
              "    </tr>\n",
              "  </thead>\n",
              "  <tbody>\n",
              "    <tr>\n",
              "      <th>0</th>\n",
              "      <td>1</td>\n",
              "      <td>the cat sat on the mat</td>\n",
              "      <td>C</td>\n",
              "    </tr>\n",
              "    <tr>\n",
              "      <th>1</th>\n",
              "      <td>2</td>\n",
              "      <td>the little dog laughed</td>\n",
              "      <td>D</td>\n",
              "    </tr>\n",
              "    <tr>\n",
              "      <th>2</th>\n",
              "      <td>3</td>\n",
              "      <td>the cat was little</td>\n",
              "      <td>C</td>\n",
              "    </tr>\n",
              "    <tr>\n",
              "      <th>3</th>\n",
              "      <td>4</td>\n",
              "      <td>the cat purred</td>\n",
              "      <td>C</td>\n",
              "    </tr>\n",
              "    <tr>\n",
              "      <th>4</th>\n",
              "      <td>5</td>\n",
              "      <td>the dog barked</td>\n",
              "      <td>D</td>\n",
              "    </tr>\n",
              "    <tr>\n",
              "      <th>5</th>\n",
              "      <td>6</td>\n",
              "      <td>the cat laughed at the dog</td>\n",
              "      <td>C</td>\n",
              "    </tr>\n",
              "  </tbody>\n",
              "</table>\n",
              "</div>"
            ],
            "text/plain": [
              "   id                    sentence classification\n",
              "0   1      the cat sat on the mat              C\n",
              "1   2      the little dog laughed              D\n",
              "2   3          the cat was little              C\n",
              "3   4              the cat purred              C\n",
              "4   5              the dog barked              D\n",
              "5   6  the cat laughed at the dog              C"
            ]
          },
          "metadata": {
            "tags": []
          },
          "execution_count": 7
        }
      ]
    },
    {
      "cell_type": "markdown",
      "metadata": {
        "id": "oYCfVqVXEZuq"
      },
      "source": [
        "For this example we will use the CountVectorizer instead of TF-IDF, as the outputs are more intuitive. This vectoriser will count occurrences of each word in a sentence. We will then use the Naive Bayes algorithm to learn a predictive model, although we're not aiming to use this model. The aim of this example is to look at the numbers that are derived from the data and see them being used in the calculations."
      ]
    },
    {
      "cell_type": "code",
      "metadata": {
        "id": "HNanEqdcFjAM",
        "colab": {
          "base_uri": "https://localhost:8080/"
        },
        "outputId": "90976470-21cc-4553-afdd-e6dc913c4723"
      },
      "source": [
        "vectoriser = CountVectorizer()\n",
        "vectoriser.fit_transform(data.sentence)\n",
        "model = MultinomialNB()\n",
        "model.fit(vectoriser.transform(data.sentence), data.classification)\n"
      ],
      "execution_count": 8,
      "outputs": [
        {
          "output_type": "execute_result",
          "data": {
            "text/plain": [
              "MultinomialNB(alpha=1.0, class_prior=None, fit_prior=True)"
            ]
          },
          "metadata": {
            "tags": []
          },
          "execution_count": 8
        }
      ]
    },
    {
      "cell_type": "markdown",
      "metadata": {
        "id": "GaT_2pKUFKUp"
      },
      "source": [
        "In the Bayes formula we started with a prior probability so let's find those for our data. Running the following code should show you that the probality of class C is 0.666667. This makes sense as 4 out of 6 records were class C, and 4 divided by 6 is 0.666667\n",
        "\n",
        "So before we see a sentence our prior knowledge suggests that it is more likely (twice as likely in fact) to be a 'C' than a 'D'."
      ]
    },
    {
      "cell_type": "code",
      "metadata": {
        "id": "FqUlBYp2F30N",
        "colab": {
          "base_uri": "https://localhost:8080/",
          "height": 110
        },
        "outputId": "4eb009ec-451b-45da-daa2-58bed7f43223"
      },
      "source": [
        "pd.DataFrame(zip(model.classes_,np.exp(model.class_log_prior_)), columns = [\"Class\", \"Probability\"])"
      ],
      "execution_count": 9,
      "outputs": [
        {
          "output_type": "execute_result",
          "data": {
            "text/html": [
              "<div>\n",
              "<style scoped>\n",
              "    .dataframe tbody tr th:only-of-type {\n",
              "        vertical-align: middle;\n",
              "    }\n",
              "\n",
              "    .dataframe tbody tr th {\n",
              "        vertical-align: top;\n",
              "    }\n",
              "\n",
              "    .dataframe thead th {\n",
              "        text-align: right;\n",
              "    }\n",
              "</style>\n",
              "<table border=\"1\" class=\"dataframe\">\n",
              "  <thead>\n",
              "    <tr style=\"text-align: right;\">\n",
              "      <th></th>\n",
              "      <th>Class</th>\n",
              "      <th>Probability</th>\n",
              "    </tr>\n",
              "  </thead>\n",
              "  <tbody>\n",
              "    <tr>\n",
              "      <th>0</th>\n",
              "      <td>C</td>\n",
              "      <td>0.666667</td>\n",
              "    </tr>\n",
              "    <tr>\n",
              "      <th>1</th>\n",
              "      <td>D</td>\n",
              "      <td>0.333333</td>\n",
              "    </tr>\n",
              "  </tbody>\n",
              "</table>\n",
              "</div>"
            ],
            "text/plain": [
              "  Class  Probability\n",
              "0     C     0.666667\n",
              "1     D     0.333333"
            ]
          },
          "metadata": {
            "tags": []
          },
          "execution_count": 9
        }
      ]
    },
    {
      "cell_type": "markdown",
      "metadata": {
        "id": "u3VF_98QG8T4"
      },
      "source": [
        "Now let's have a look at word frequencies. The following code outputs the proportions of each word in each class.\n",
        "\n",
        "For example, 16.1% of words in class 'C' sentences are 'cat', and 15.7% of class 'D' words are 'dog' (wonder what 'C' and 'D' could stand for?).\n",
        "\n",
        "Look at the word percentages for each list and compare them to the sentences in the table above. **Do you notice anything odd?** (HINT: look at the percentages for 'barked' and 'purred')\n",
        "\n",
        "Note: If you don't know (or care) about logarithms then carry on to the next section. If you're still reading...\n",
        "\n",
        "In the following code there seems to be quite a bit of calculating to get the percentages (\"(np.exp(model.feature_log_prob_)[c]*1000).astype(int)/1000)\"). The reason for this is that instead of storing word probabilities, the algorithm stores the logarithm of the probabilities. The logarithm is used for computational reasons. One reason is that if you use logs then you can add values instead of multiplying, which is a more efficient calculation. Secondly, if you are multiplying lots of small probabilities you can end up with a underflow problem and find your calculations reducing to zero which is a disaster. Using logs avoids this problem."
      ]
    },
    {
      "cell_type": "code",
      "metadata": {
        "id": "jFVToSt4H_aq",
        "colab": {
          "base_uri": "https://localhost:8080/"
        },
        "outputId": "8d0d143c-8138-44dd-f31b-463c84712945"
      },
      "source": [
        "for c in range(len(model.classes_)):\n",
        "    print(\"Word distribution for class:\", model.classes_[c])\n",
        "    for w in [x for x in zip(vectoriser.get_feature_names(),(np.exp(model.feature_log_prob_)[c]*1000).astype(int)/1000)]:\n",
        "        print(\"\\t\",w[0].ljust(10),\":\\t\",w[1]*100,\"%\")"
      ],
      "execution_count": 10,
      "outputs": [
        {
          "output_type": "stream",
          "text": [
            "Word distribution for class: C\n",
            "\t at         :\t 6.4 %\n",
            "\t barked     :\t 3.2 %\n",
            "\t cat        :\t 16.1 %\n",
            "\t dog        :\t 6.4 %\n",
            "\t laughed    :\t 6.4 %\n",
            "\t little     :\t 6.4 %\n",
            "\t mat        :\t 6.4 %\n",
            "\t on         :\t 6.4 %\n",
            "\t purred     :\t 6.4 %\n",
            "\t sat        :\t 6.4 %\n",
            "\t the        :\t 22.5 %\n",
            "\t was        :\t 6.4 %\n",
            "Word distribution for class: D\n",
            "\t at         :\t 5.2 %\n",
            "\t barked     :\t 10.5 %\n",
            "\t cat        :\t 5.2 %\n",
            "\t dog        :\t 15.7 %\n",
            "\t laughed    :\t 10.5 %\n",
            "\t little     :\t 10.5 %\n",
            "\t mat        :\t 5.2 %\n",
            "\t on         :\t 5.2 %\n",
            "\t purred     :\t 5.2 %\n",
            "\t sat        :\t 5.2 %\n",
            "\t the        :\t 15.7 %\n",
            "\t was        :\t 5.2 %\n"
          ],
          "name": "stdout"
        }
      ]
    },
    {
      "cell_type": "markdown",
      "metadata": {
        "id": "UenLm81gQJFi"
      },
      "source": [
        "You may have noticed that 'purred' never appears in the two 'D' sentences, yet it accounts for 5.2% of the words in class 'D'. How is this possible?\n",
        "\n",
        "If we think back to the Bayes calculation we are multiplying probabilities. Imagine if we encountered the sentence 'dog dog dog purred'. If the probability of 'purred' for class 'D' was zero, then we would be multiplying P('dog' | 'D') three times and then multiplying by zero. So the answer is zero! Since both 'purred' and 'dog' appear in a class 'C' sentence, our classifier will decide this is definitely a 'cat' sentence despite 'dog' appearing three times.\n",
        "\n",
        "To get around this problem the Bayes classifier adds one to all of the word counts so that no value is zero. "
      ]
    },
    {
      "cell_type": "markdown",
      "metadata": {
        "id": "z8WBvWELTRdQ"
      },
      "source": [
        "We will now try and run through the calculation for a simple sentence, \"the cat\".\n",
        "\n",
        "We have two hypotheses: 'C' or 'D'. Let's start with 'C'\n",
        "\n",
        "Our prior P('C') from above is 0.6667. P('cat' | 'C') and P('the' | 'C') can be looked up in the table we just produced. They are 0.161 and 0.225 respectively.\n",
        "\n",
        "So P('C' | 'the cat') = 0.6667 * 0.161 * 0.225 = 0.02415\n",
        "\n",
        "Similarly,\n",
        "\n",
        "P('D' | 'the cat') = 0.3333 * 0.052 * 0.157 = 0.0027\n",
        "\n",
        "The first value is nearly 10 times bigger, so we're overwhelmingly in favour of class 'C'."
      ]
    },
    {
      "cell_type": "markdown",
      "metadata": {
        "id": "QdtmEVuiVN7n"
      },
      "source": [
        "Remember earlier we said that these weren't technically probabilities? To be probabilities they would need to add up to one. We can easily do this, by adding them together (0.02415 + 0.0027 = 0.02685) and then dividing the two values by this total. Now we have:\n",
        "\n",
        "\n",
        "*   P('C' | 'the cat') = 0.02415 / 0.02685 = 0.899\n",
        "*   P('D' | 'the cat') = 0.0027  / 0.02685 = 0.1005\n",
        "\n",
        "Give or take rounding errors this adds up to 1.\n",
        "\n",
        "Now let's compare this with the output from the Bayes classifier we built...\n"
      ]
    },
    {
      "cell_type": "code",
      "metadata": {
        "id": "zthihXrMLtIi",
        "colab": {
          "base_uri": "https://localhost:8080/",
          "height": 79
        },
        "outputId": "1a081875-d21d-4ddc-dac0-5c61d964d1c9"
      },
      "source": [
        "pd.DataFrame(model.predict_proba(vectoriser.transform([\"the cat\"])), columns = ['C','D'])"
      ],
      "execution_count": 11,
      "outputs": [
        {
          "output_type": "execute_result",
          "data": {
            "text/html": [
              "<div>\n",
              "<style scoped>\n",
              "    .dataframe tbody tr th:only-of-type {\n",
              "        vertical-align: middle;\n",
              "    }\n",
              "\n",
              "    .dataframe tbody tr th {\n",
              "        vertical-align: top;\n",
              "    }\n",
              "\n",
              "    .dataframe thead th {\n",
              "        text-align: right;\n",
              "    }\n",
              "</style>\n",
              "<table border=\"1\" class=\"dataframe\">\n",
              "  <thead>\n",
              "    <tr style=\"text-align: right;\">\n",
              "      <th></th>\n",
              "      <th>C</th>\n",
              "      <th>D</th>\n",
              "    </tr>\n",
              "  </thead>\n",
              "  <tbody>\n",
              "    <tr>\n",
              "      <th>0</th>\n",
              "      <td>0.897595</td>\n",
              "      <td>0.102405</td>\n",
              "    </tr>\n",
              "  </tbody>\n",
              "</table>\n",
              "</div>"
            ],
            "text/plain": [
              "          C         D\n",
              "0  0.897595  0.102405"
            ]
          },
          "metadata": {
            "tags": []
          },
          "execution_count": 11
        }
      ]
    },
    {
      "cell_type": "markdown",
      "metadata": {
        "id": "xFIcFwL6WiLD"
      },
      "source": [
        "And we agree with the model's answer. Phew!\n",
        "\n",
        "Let's try another sentence using the same vocabulary (if you introduce new words they'll be ignored by the vectoriser and therefore be left out of the calculations). Even though 'little' and 'barked' are more 'D' words, we still find that the model is twice as confident that this is a 'C' sentence than 'D'. This is partly because 'cat' is much more of a 'C' word but also because our prior probability of 'C' is double that of 'D'. So some major dogness would be needed to outweigh that. \n",
        "\n",
        "Feel free to experiment with your own sentences to see what happens:\n",
        "\n"
      ]
    },
    {
      "cell_type": "code",
      "metadata": {
        "id": "cJByu32kW-O3",
        "colab": {
          "base_uri": "https://localhost:8080/",
          "height": 79
        },
        "outputId": "e59a1bd7-8c42-4b92-c565-db895843fa1c"
      },
      "source": [
        "my_sentence = \"the little cat barked\"\n",
        "pd.DataFrame(model.predict_proba(vectoriser.transform([my_sentence])), columns = ['C','D'])"
      ],
      "execution_count": 12,
      "outputs": [
        {
          "output_type": "execute_result",
          "data": {
            "text/html": [
              "<div>\n",
              "<style scoped>\n",
              "    .dataframe tbody tr th:only-of-type {\n",
              "        vertical-align: middle;\n",
              "    }\n",
              "\n",
              "    .dataframe tbody tr th {\n",
              "        vertical-align: top;\n",
              "    }\n",
              "\n",
              "    .dataframe thead th {\n",
              "        text-align: right;\n",
              "    }\n",
              "</style>\n",
              "<table border=\"1\" class=\"dataframe\">\n",
              "  <thead>\n",
              "    <tr style=\"text-align: right;\">\n",
              "      <th></th>\n",
              "      <th>C</th>\n",
              "      <th>D</th>\n",
              "    </tr>\n",
              "  </thead>\n",
              "  <tbody>\n",
              "    <tr>\n",
              "      <th>0</th>\n",
              "      <td>0.622117</td>\n",
              "      <td>0.377883</td>\n",
              "    </tr>\n",
              "  </tbody>\n",
              "</table>\n",
              "</div>"
            ],
            "text/plain": [
              "          C         D\n",
              "0  0.622117  0.377883"
            ]
          },
          "metadata": {
            "tags": []
          },
          "execution_count": 12
        }
      ]
    },
    {
      "cell_type": "markdown",
      "metadata": {
        "id": "7iHQBxtxXRlt"
      },
      "source": [
        "##**Exploring the Naive Bayes taxonomy model**\n",
        "\n",
        "Finally we are ready to explore the NB model you created in tutorial 3. There are three parts to this:\n",
        "\n",
        "*   Look at right and wrong examples\n",
        "*   Look at how confident the model is\n",
        "*   Look at how we might show our workings\n",
        "\n",
        "We will start by loading the model we created in Tutorial 3 and the Discovery data we've been using all along.\n",
        "\n",
        "**Note:** Throughout this part of the tutorial I may refer to results or numbers that differ to the ones you get when you run the code. This is because everyone is using a different random sample of training data and so some word counts, and therefore the probabilities in the model, may vary. Hopefully your results will be fairly similar though.\n",
        "\n",
        "*******************************************************************************\n",
        "\n",
        "**Recommendation: copy the list of Taxonomy and Categories (below) into Notepad, or similar, so you have it handy for the rest of the tutorial. It will help interpret results which output the codes.**\n",
        "\n",
        "(If you've worked in Cataloguing or CEE for several years this may not be necessary)"
      ]
    },
    {
      "cell_type": "code",
      "metadata": {
        "id": "FMjmqVEG4Ijl",
        "colab": {
          "base_uri": "https://localhost:8080/",
          "height": 355
        },
        "outputId": "6d19f4a9-6dbb-491e-b357-6e2562fc31bd"
      },
      "source": [
        "nb_model = pickle.load(open(data_folder + 'model_NB_ngram.pck', 'rb'))\n",
        "vectoriser = pickle.load(open(data_folder + 'ngram_tfidf.pck', 'rb'))\n",
        "descriptions = pd.read_csv(data_folder + 'topN_taxonomy.csv',\n",
        "                           delimiter=\"|\", header=0, lineterminator='\\n')\n",
        "descriptions = descriptions.drop(descriptions.columns[[0]], axis=1) \n",
        "descriptions.columns = [\"IAID\",\"TAXID\",\"Description\"]\n",
        "\n",
        "taxonomy = pd.read_csv(data_folder + 'taxonomyids_and_names.txt',\n",
        "                           delimiter=\"|\", header=None, lineterminator='\\n')\n",
        "taxonomy.columns = [\"TAXID\",\"TaxonomyCategory\"]\n",
        "\n",
        "topN = pd.merge(descriptions, taxonomy, how = 'inner').groupby(['TAXID', 'TaxonomyCategory']).size().reset_index(name='Count').sort_values('Count', ascending=False)\n",
        "topN"
      ],
      "execution_count": 13,
      "outputs": [
        {
          "output_type": "execute_result",
          "data": {
            "text/html": [
              "<div>\n",
              "<style scoped>\n",
              "    .dataframe tbody tr th:only-of-type {\n",
              "        vertical-align: middle;\n",
              "    }\n",
              "\n",
              "    .dataframe tbody tr th {\n",
              "        vertical-align: top;\n",
              "    }\n",
              "\n",
              "    .dataframe thead th {\n",
              "        text-align: right;\n",
              "    }\n",
              "</style>\n",
              "<table border=\"1\" class=\"dataframe\">\n",
              "  <thead>\n",
              "    <tr style=\"text-align: right;\">\n",
              "      <th></th>\n",
              "      <th>TAXID</th>\n",
              "      <th>TaxonomyCategory</th>\n",
              "      <th>Count</th>\n",
              "    </tr>\n",
              "  </thead>\n",
              "  <tbody>\n",
              "    <tr>\n",
              "      <th>5</th>\n",
              "      <td>C10092</td>\n",
              "      <td>Army</td>\n",
              "      <td>17113</td>\n",
              "    </tr>\n",
              "    <tr>\n",
              "      <th>1</th>\n",
              "      <td>C10005</td>\n",
              "      <td>Art, architecture and design</td>\n",
              "      <td>14114</td>\n",
              "    </tr>\n",
              "    <tr>\n",
              "      <th>3</th>\n",
              "      <td>C10060</td>\n",
              "      <td>Medals</td>\n",
              "      <td>12049</td>\n",
              "    </tr>\n",
              "    <tr>\n",
              "      <th>4</th>\n",
              "      <td>C10072</td>\n",
              "      <td>Navy</td>\n",
              "      <td>10691</td>\n",
              "    </tr>\n",
              "    <tr>\n",
              "      <th>0</th>\n",
              "      <td>C10002</td>\n",
              "      <td>Air Force</td>\n",
              "      <td>6682</td>\n",
              "    </tr>\n",
              "    <tr>\n",
              "      <th>2</th>\n",
              "      <td>C10058</td>\n",
              "      <td>Maps and plans</td>\n",
              "      <td>5805</td>\n",
              "    </tr>\n",
              "    <tr>\n",
              "      <th>9</th>\n",
              "      <td>C10131</td>\n",
              "      <td>Europe and Russia</td>\n",
              "      <td>4790</td>\n",
              "    </tr>\n",
              "    <tr>\n",
              "      <th>8</th>\n",
              "      <td>C10127</td>\n",
              "      <td>Indian Subcontinent</td>\n",
              "      <td>3275</td>\n",
              "    </tr>\n",
              "    <tr>\n",
              "      <th>6</th>\n",
              "      <td>C10106</td>\n",
              "      <td>Taxation</td>\n",
              "      <td>3144</td>\n",
              "    </tr>\n",
              "    <tr>\n",
              "      <th>7</th>\n",
              "      <td>C10108</td>\n",
              "      <td>Trade and commerce</td>\n",
              "      <td>2891</td>\n",
              "    </tr>\n",
              "  </tbody>\n",
              "</table>\n",
              "</div>"
            ],
            "text/plain": [
              "    TAXID              TaxonomyCategory  Count\n",
              "5  C10092                          Army  17113\n",
              "1  C10005  Art, architecture and design  14114\n",
              "3  C10060                        Medals  12049\n",
              "4  C10072                          Navy  10691\n",
              "0  C10002                     Air Force   6682\n",
              "2  C10058                Maps and plans   5805\n",
              "9  C10131             Europe and Russia   4790\n",
              "8  C10127           Indian Subcontinent   3275\n",
              "6  C10106                      Taxation   3144\n",
              "7  C10108            Trade and commerce   2891"
            ]
          },
          "metadata": {
            "tags": []
          },
          "execution_count": 13
        }
      ]
    },
    {
      "cell_type": "markdown",
      "metadata": {
        "id": "4t7NUG77yj69"
      },
      "source": [
        "We will start by applying the model to our data and making predictions. The top 5 all look good but in the next step we will identify some examples of good and bad predictions."
      ]
    },
    {
      "cell_type": "code",
      "metadata": {
        "id": "t9N7rks_MBxr",
        "colab": {
          "base_uri": "https://localhost:8080/",
          "height": 202
        },
        "outputId": "2cb1dee1-83dc-471c-e960-ff5670b77f56"
      },
      "source": [
        "pd.set_option('display.max_colwidth', 130)\n",
        "vec_descriptions = vectoriser.transform(descriptions.Description)\n",
        "predictions = nb_model.predict(vec_descriptions.toarray())\n",
        "descriptions['predicted'] = predictions\n",
        "descriptions.head(5)"
      ],
      "execution_count": 14,
      "outputs": [
        {
          "output_type": "execute_result",
          "data": {
            "text/html": [
              "<div>\n",
              "<style scoped>\n",
              "    .dataframe tbody tr th:only-of-type {\n",
              "        vertical-align: middle;\n",
              "    }\n",
              "\n",
              "    .dataframe tbody tr th {\n",
              "        vertical-align: top;\n",
              "    }\n",
              "\n",
              "    .dataframe thead th {\n",
              "        text-align: right;\n",
              "    }\n",
              "</style>\n",
              "<table border=\"1\" class=\"dataframe\">\n",
              "  <thead>\n",
              "    <tr style=\"text-align: right;\">\n",
              "      <th></th>\n",
              "      <th>IAID</th>\n",
              "      <th>TAXID</th>\n",
              "      <th>Description</th>\n",
              "      <th>predicted</th>\n",
              "    </tr>\n",
              "  </thead>\n",
              "  <tbody>\n",
              "    <tr>\n",
              "      <th>0</th>\n",
              "      <td>C13122444</td>\n",
              "      <td>C10005</td>\n",
              "      <td>Registered design number: 381468.  Proprietor: The Strines Printing Company.  Address: 19 George Street, Manchester, Lancashi...</td>\n",
              "      <td>C10005</td>\n",
              "    </tr>\n",
              "    <tr>\n",
              "      <th>1</th>\n",
              "      <td>C13089234</td>\n",
              "      <td>C10005</td>\n",
              "      <td>Registered design number: 196086.  Proprietor: James Black and Company.  Address: 23 Royal Exchange Square, Glasgow, Scotland...</td>\n",
              "      <td>C10005</td>\n",
              "    </tr>\n",
              "    <tr>\n",
              "      <th>2</th>\n",
              "      <td>C13195333</td>\n",
              "      <td>C10092</td>\n",
              "      <td>Statements of Service, Royal Artillery 10 Battalion Numbers 1 to 477.  This entry appears on opening 381; this number is impr...</td>\n",
              "      <td>C10092</td>\n",
              "    </tr>\n",
              "    <tr>\n",
              "      <th>3</th>\n",
              "      <td>C12894455</td>\n",
              "      <td>C10005</td>\n",
              "      <td>Registered design number: 47236.  Proprietor: R Dalglish, Falconer and Company.  Address: Lennox Mill, Lennox Town, North Bri...</td>\n",
              "      <td>C10005</td>\n",
              "    </tr>\n",
              "    <tr>\n",
              "      <th>4</th>\n",
              "      <td>C12896588</td>\n",
              "      <td>C10005</td>\n",
              "      <td>Registered design number: 49663.  Proprietor: R Dalglish, Falconer and Company.  Address: Lennox Mill, Lennox Town, North Bri...</td>\n",
              "      <td>C10005</td>\n",
              "    </tr>\n",
              "  </tbody>\n",
              "</table>\n",
              "</div>"
            ],
            "text/plain": [
              "        IAID  ... predicted\n",
              "0  C13122444  ...    C10005\n",
              "1  C13089234  ...    C10005\n",
              "2  C13195333  ...    C10092\n",
              "3  C12894455  ...    C10005\n",
              "4  C12896588  ...    C10005\n",
              "\n",
              "[5 rows x 4 columns]"
            ]
          },
          "metadata": {
            "tags": []
          },
          "execution_count": 14
        }
      ]
    },
    {
      "cell_type": "markdown",
      "metadata": {
        "id": "BUT4C4tbal-C"
      },
      "source": [
        "The following are a sample of 20 correct predictions. For this example I have used a list of IAIDs (unique identifiers for Discovery records) so that we're all seeing the same records. If you wish to try out with a different list just remove the '#' from the front of the middle line (in green) and run the code.\n",
        "\n",
        "We will look at a couple of examples in more detail next."
      ]
    },
    {
      "cell_type": "code",
      "metadata": {
        "id": "4jjvqWL8L9wc",
        "colab": {
          "base_uri": "https://localhost:8080/",
          "height": 662
        },
        "outputId": "5fe3c522-c57b-484e-93df-9774bde98f39"
      },
      "source": [
        "right_list = ['C12967252', 'C12636117', 'C13120311', 'C12900469', 'C2900655', 'C13327308', 'C13096941', 'D7453690', 'C15544098', 'C3861417',\n",
        "              'C16973497', 'C11595872', 'C16997630', 'C12974953', 'C1062968', 'D8412524',  'C12953395', 'D7455711', 'C1081822',  'C16421625']\n",
        "\n",
        "#right_list = [x for x in descriptions[descriptions.TAXID == descriptions.predicted].sample(20)['IAID']]\n",
        "\n",
        "descriptions[descriptions.IAID.isin(right_list)]"
      ],
      "execution_count": 15,
      "outputs": [
        {
          "output_type": "execute_result",
          "data": {
            "text/html": [
              "<div>\n",
              "<style scoped>\n",
              "    .dataframe tbody tr th:only-of-type {\n",
              "        vertical-align: middle;\n",
              "    }\n",
              "\n",
              "    .dataframe tbody tr th {\n",
              "        vertical-align: top;\n",
              "    }\n",
              "\n",
              "    .dataframe thead th {\n",
              "        text-align: right;\n",
              "    }\n",
              "</style>\n",
              "<table border=\"1\" class=\"dataframe\">\n",
              "  <thead>\n",
              "    <tr style=\"text-align: right;\">\n",
              "      <th></th>\n",
              "      <th>IAID</th>\n",
              "      <th>TAXID</th>\n",
              "      <th>Description</th>\n",
              "      <th>predicted</th>\n",
              "    </tr>\n",
              "  </thead>\n",
              "  <tbody>\n",
              "    <tr>\n",
              "      <th>2227</th>\n",
              "      <td>C12900469</td>\n",
              "      <td>C10005</td>\n",
              "      <td>Registered design number: 53263.  Proprietor: Charles Swaisland.  Address: Crayford, Kent.  Subject: Prints.  Class 10: print...</td>\n",
              "      <td>C10005</td>\n",
              "    </tr>\n",
              "    <tr>\n",
              "      <th>7197</th>\n",
              "      <td>D7453690</td>\n",
              "      <td>C10002</td>\n",
              "      <td>CR ShortSergeant4901 September 1942</td>\n",
              "      <td>C10002</td>\n",
              "    </tr>\n",
              "    <tr>\n",
              "      <th>7481</th>\n",
              "      <td>C12636117</td>\n",
              "      <td>C10131</td>\n",
              "      <td>Design number: 213142.  Name: Gros Roman Marozeau.  Address: Wesserling Haut Rhin France.</td>\n",
              "      <td>C10131</td>\n",
              "    </tr>\n",
              "    <tr>\n",
              "      <th>15268</th>\n",
              "      <td>C1081822</td>\n",
              "      <td>C10092</td>\n",
              "      <td>Lieutenant Frank Dale CHADWICK  The Duke of Wellington's (West Riding Regiment).</td>\n",
              "      <td>C10092</td>\n",
              "    </tr>\n",
              "    <tr>\n",
              "      <th>19730</th>\n",
              "      <td>C11595872</td>\n",
              "      <td>C10058</td>\n",
              "      <td>Sheet Number SP 04 NE on Ordnance Survey (OS) based mapping dated 1992</td>\n",
              "      <td>C10058</td>\n",
              "    </tr>\n",
              "    <tr>\n",
              "      <th>24059</th>\n",
              "      <td>C16973497</td>\n",
              "      <td>C10092</td>\n",
              "      <td>Folio(s): 475-476.  Name: William B  Holmes.  Rank: Private.  Unit/Battalion/Regiment: 9 The Leicestershire Regiment.  Servic...</td>\n",
              "      <td>C10092</td>\n",
              "    </tr>\n",
              "    <tr>\n",
              "      <th>24166</th>\n",
              "      <td>C15544098</td>\n",
              "      <td>C10106</td>\n",
              "      <td>Certificate of residence showing Nathaniel  Legg (or the variant surname: Legge) to be liable for taxation in Wiltshire.  (De...</td>\n",
              "      <td>C10106</td>\n",
              "    </tr>\n",
              "    <tr>\n",
              "      <th>25087</th>\n",
              "      <td>C13096941</td>\n",
              "      <td>C10005</td>\n",
              "      <td>Registered design number: 329054.  Proprietor: F W Ashton and Company.  Address: 45 Portland Street, Manchester, Lancashire. ...</td>\n",
              "      <td>C10005</td>\n",
              "    </tr>\n",
              "    <tr>\n",
              "      <th>27202</th>\n",
              "      <td>C16997630</td>\n",
              "      <td>C10002</td>\n",
              "      <td>Pilot Officer N P Warden: missing believed killed; aircraft failed to return from operational flight over the English Channel...</td>\n",
              "      <td>C10002</td>\n",
              "    </tr>\n",
              "    <tr>\n",
              "      <th>39844</th>\n",
              "      <td>C12967252</td>\n",
              "      <td>C10005</td>\n",
              "      <td>Registered design number: 151008.  Proprietor: The Strines Printing Company.  Address: 19 George Street, Manchester, Lancashi...</td>\n",
              "      <td>C10005</td>\n",
              "    </tr>\n",
              "    <tr>\n",
              "      <th>44923</th>\n",
              "      <td>C2900655</td>\n",
              "      <td>C10131</td>\n",
              "      <td>Transmission of messages to and from Norway. Code NN file 1991</td>\n",
              "      <td>C10131</td>\n",
              "    </tr>\n",
              "    <tr>\n",
              "      <th>45966</th>\n",
              "      <td>C3861417</td>\n",
              "      <td>C10072</td>\n",
              "      <td>SUBMARINE: THRASHER</td>\n",
              "      <td>C10072</td>\n",
              "    </tr>\n",
              "    <tr>\n",
              "      <th>46687</th>\n",
              "      <td>C16421625</td>\n",
              "      <td>C10072</td>\n",
              "      <td>HMS Orwell</td>\n",
              "      <td>C10072</td>\n",
              "    </tr>\n",
              "    <tr>\n",
              "      <th>48080</th>\n",
              "      <td>C1062968</td>\n",
              "      <td>C10092</td>\n",
              "      <td>Captain Michael Day Wade MAUDE.  Alexandra, Princess of Wales's Own (Yorkshire Regiment).</td>\n",
              "      <td>C10092</td>\n",
              "    </tr>\n",
              "    <tr>\n",
              "      <th>53484</th>\n",
              "      <td>C12974953</td>\n",
              "      <td>C10005</td>\n",
              "      <td>Registered design number: 160802.  Proprietor: McNaughtan and Thom.  Address: Birkacre, near Chorley, and 80 Mosley Street, M...</td>\n",
              "      <td>C10005</td>\n",
              "    </tr>\n",
              "    <tr>\n",
              "      <th>54783</th>\n",
              "      <td>C12953395</td>\n",
              "      <td>C10005</td>\n",
              "      <td>Registered design number: 131472.  Proprietor: Mary Ann Littler [female proprietor].  Address: Merton Abbey, Merton, Surrey.  ...</td>\n",
              "      <td>C10005</td>\n",
              "    </tr>\n",
              "    <tr>\n",
              "      <th>60967</th>\n",
              "      <td>D8412524</td>\n",
              "      <td>C10002</td>\n",
              "      <td>SQ47Y</td>\n",
              "      <td>C10002</td>\n",
              "    </tr>\n",
              "    <tr>\n",
              "      <th>64619</th>\n",
              "      <td>D7455711</td>\n",
              "      <td>C10002</td>\n",
              "      <td>CR LancasterSergeant5701 August 1942</td>\n",
              "      <td>C10002</td>\n",
              "    </tr>\n",
              "    <tr>\n",
              "      <th>74018</th>\n",
              "      <td>C13327308</td>\n",
              "      <td>C10092</td>\n",
              "      <td>Name: Thomas J Fitzsimon. Regiment: 62nd Foot. Date of Service: 1863-1868.</td>\n",
              "      <td>C10092</td>\n",
              "    </tr>\n",
              "    <tr>\n",
              "      <th>74686</th>\n",
              "      <td>C13120311</td>\n",
              "      <td>C10005</td>\n",
              "      <td>Registered design number: 378677.  Proprietor: Edmund Potter and Company.  Address: Dinting, Derbyshire, and Manchester, Lanc...</td>\n",
              "      <td>C10005</td>\n",
              "    </tr>\n",
              "  </tbody>\n",
              "</table>\n",
              "</div>"
            ],
            "text/plain": [
              "            IAID  ... predicted\n",
              "2227   C12900469  ...    C10005\n",
              "7197    D7453690  ...    C10002\n",
              "7481   C12636117  ...    C10131\n",
              "15268   C1081822  ...    C10092\n",
              "19730  C11595872  ...    C10058\n",
              "24059  C16973497  ...    C10092\n",
              "24166  C15544098  ...    C10106\n",
              "25087  C13096941  ...    C10005\n",
              "27202  C16997630  ...    C10002\n",
              "39844  C12967252  ...    C10005\n",
              "44923   C2900655  ...    C10131\n",
              "45966   C3861417  ...    C10072\n",
              "46687  C16421625  ...    C10072\n",
              "48080   C1062968  ...    C10092\n",
              "53484  C12974953  ...    C10005\n",
              "54783  C12953395  ...    C10005\n",
              "60967   D8412524  ...    C10002\n",
              "64619   D7455711  ...    C10002\n",
              "74018  C13327308  ...    C10092\n",
              "74686  C13120311  ...    C10005\n",
              "\n",
              "[20 rows x 4 columns]"
            ]
          },
          "metadata": {
            "tags": []
          },
          "execution_count": 15
        }
      ]
    },
    {
      "cell_type": "markdown",
      "metadata": {
        "id": "ekPgQdDubNJe"
      },
      "source": [
        "In the following example we will print out a description that was correctly classified by the model. We will then print out prediction probabilities for each class. These are the numbers that we would get if we followed our Bayes' Rule calculations that we learned about earlier (with one slight change because we would use the TF-IDF score too, so don't try this at home).\n",
        "\n",
        "My model has classified this as 'C10131' with 85% confidence, hopefully yours is similar but don't worry if it isn't. The rest of the scores are very low, 1 or 2%. They don't quite add up to 100% because of rounding errors in the calculations in the code below but they're close enough.\n",
        "\n",
        "**Think from the perspective of the Archive. Would you be happy to label this specific example as 'C10131' in Discovery, or do you feel the user needs to know about the confidence score?**"
      ]
    },
    {
      "cell_type": "code",
      "metadata": {
        "id": "a64BdlOcOwFs",
        "colab": {
          "base_uri": "https://localhost:8080/",
          "height": 114
        },
        "outputId": "904fd2a6-3a65-4a1d-eb68-95f53c2ee903"
      },
      "source": [
        "IAID = 'C2900655'\n",
        "sentence = descriptions[descriptions.IAID == IAID].Description.to_string(index = False)\n",
        "vec = vectoriser.transform([sentence]).toarray()\n",
        "prediction = nb_model.predict(vec)\n",
        "print(\"Text \" + '\"' + sentence + '\"', \"predicted as: \" + str(prediction[0]))\n",
        "print(\"Probabilities of each class are:\")\n",
        "pd.DataFrame((nb_model.predict_proba(vec) * 100).astype(int) / 100, columns = nb_model.classes_)\n"
      ],
      "execution_count": 16,
      "outputs": [
        {
          "output_type": "stream",
          "text": [
            "Text \" Transmission of messages to and from Norway. Code NN file 1991\" predicted as: C10131\n",
            "Probabilities of each class are:\n"
          ],
          "name": "stdout"
        },
        {
          "output_type": "execute_result",
          "data": {
            "text/html": [
              "<div>\n",
              "<style scoped>\n",
              "    .dataframe tbody tr th:only-of-type {\n",
              "        vertical-align: middle;\n",
              "    }\n",
              "\n",
              "    .dataframe tbody tr th {\n",
              "        vertical-align: top;\n",
              "    }\n",
              "\n",
              "    .dataframe thead th {\n",
              "        text-align: right;\n",
              "    }\n",
              "</style>\n",
              "<table border=\"1\" class=\"dataframe\">\n",
              "  <thead>\n",
              "    <tr style=\"text-align: right;\">\n",
              "      <th></th>\n",
              "      <th>C10002</th>\n",
              "      <th>C10005</th>\n",
              "      <th>C10058</th>\n",
              "      <th>C10060</th>\n",
              "      <th>C10072</th>\n",
              "      <th>C10092</th>\n",
              "      <th>C10106</th>\n",
              "      <th>C10108</th>\n",
              "      <th>C10127</th>\n",
              "      <th>C10131</th>\n",
              "    </tr>\n",
              "  </thead>\n",
              "  <tbody>\n",
              "    <tr>\n",
              "      <th>0</th>\n",
              "      <td>0.01</td>\n",
              "      <td>0.0</td>\n",
              "      <td>0.02</td>\n",
              "      <td>0.01</td>\n",
              "      <td>0.02</td>\n",
              "      <td>0.0</td>\n",
              "      <td>0.01</td>\n",
              "      <td>0.02</td>\n",
              "      <td>0.0</td>\n",
              "      <td>0.85</td>\n",
              "    </tr>\n",
              "  </tbody>\n",
              "</table>\n",
              "</div>"
            ],
            "text/plain": [
              "   C10002  C10005  C10058  C10060  ...  C10106  C10108  C10127  C10131\n",
              "0    0.01     0.0    0.02    0.01  ...    0.01    0.02     0.0    0.85\n",
              "\n",
              "[1 rows x 10 columns]"
            ]
          },
          "metadata": {
            "tags": []
          },
          "execution_count": 16
        }
      ]
    },
    {
      "cell_type": "markdown",
      "metadata": {
        "id": "uKLbpJKmczeh"
      },
      "source": [
        "In the next example we see an even more definitive classification with a confidence of 99%. We will revisit this example again later as it reveals a 'gotcha' in our training process."
      ]
    },
    {
      "cell_type": "code",
      "metadata": {
        "id": "ZLLDOPxKSWO7",
        "colab": {
          "base_uri": "https://localhost:8080/",
          "height": 151
        },
        "outputId": "f02b4704-d228-40b3-eb56-3263470aefdd"
      },
      "source": [
        "IAID = 'C15544098'\n",
        "sentence = descriptions[descriptions.IAID == IAID].Description.to_string(index = False)\n",
        "vec = vectoriser.transform([sentence])\n",
        "prediction = nb_model.predict(vec)\n",
        "print(\"Text \" + '\"' + sentence + '\"', \"predicted as: \" + str(prediction[0]))\n",
        "print(\"\")\n",
        "print(\"Probabilities of each class are:\")\n",
        "pd.DataFrame((nb_model.predict_proba(vec) * 100).astype(int) / 100, columns = nb_model.classes_)\n"
      ],
      "execution_count": 17,
      "outputs": [
        {
          "output_type": "stream",
          "text": [
            "Text \"  Certificate of residence showing Nathaniel  Legg (or the variant surname: Legge) to be liable for taxation in Wiltshire.  (De...\" predicted as: C10106\n",
            "\n",
            "Probabilities of each class are:\n"
          ],
          "name": "stdout"
        },
        {
          "output_type": "execute_result",
          "data": {
            "text/html": [
              "<div>\n",
              "<style scoped>\n",
              "    .dataframe tbody tr th:only-of-type {\n",
              "        vertical-align: middle;\n",
              "    }\n",
              "\n",
              "    .dataframe tbody tr th {\n",
              "        vertical-align: top;\n",
              "    }\n",
              "\n",
              "    .dataframe thead th {\n",
              "        text-align: right;\n",
              "    }\n",
              "</style>\n",
              "<table border=\"1\" class=\"dataframe\">\n",
              "  <thead>\n",
              "    <tr style=\"text-align: right;\">\n",
              "      <th></th>\n",
              "      <th>C10002</th>\n",
              "      <th>C10005</th>\n",
              "      <th>C10058</th>\n",
              "      <th>C10060</th>\n",
              "      <th>C10072</th>\n",
              "      <th>C10092</th>\n",
              "      <th>C10106</th>\n",
              "      <th>C10108</th>\n",
              "      <th>C10127</th>\n",
              "      <th>C10131</th>\n",
              "    </tr>\n",
              "  </thead>\n",
              "  <tbody>\n",
              "    <tr>\n",
              "      <th>0</th>\n",
              "      <td>0.0</td>\n",
              "      <td>0.0</td>\n",
              "      <td>0.0</td>\n",
              "      <td>0.0</td>\n",
              "      <td>0.0</td>\n",
              "      <td>0.0</td>\n",
              "      <td>0.99</td>\n",
              "      <td>0.0</td>\n",
              "      <td>0.0</td>\n",
              "      <td>0.0</td>\n",
              "    </tr>\n",
              "  </tbody>\n",
              "</table>\n",
              "</div>"
            ],
            "text/plain": [
              "   C10002  C10005  C10058  C10060  ...  C10106  C10108  C10127  C10131\n",
              "0     0.0     0.0     0.0     0.0  ...    0.99     0.0     0.0     0.0\n",
              "\n",
              "[1 rows x 10 columns]"
            ]
          },
          "metadata": {
            "tags": []
          },
          "execution_count": 17
        }
      ]
    },
    {
      "cell_type": "markdown",
      "metadata": {
        "id": "fq9aO3GGd7Vt"
      },
      "source": [
        "Now we will look at some incorrect predictions."
      ]
    },
    {
      "cell_type": "code",
      "metadata": {
        "id": "urISJ0leKBHk",
        "colab": {
          "base_uri": "https://localhost:8080/",
          "height": 679
        },
        "outputId": "64af2a3b-7b21-4e5d-819c-893f5457a97c"
      },
      "source": [
        "wrong_list = ['C8902440', 'D8006774', 'D7578831', 'D8028690', 'C8192385', 'D7963041', 'D8411035', 'D8045600', 'D6687835', 'C2542874',\n",
        "              'D8047059', 'D8019265', 'D8041161', 'D4319271', 'D4361597', 'D8024716', 'D7981740', 'C4093217', 'D8005700', 'D8009277']\n",
        "              \n",
        "#wrong_list = [x for x in descriptions[descriptions.TAXID != descriptions.predicted].sample(20)['IAID']]\n",
        "\n",
        "descriptions[descriptions.IAID.isin(wrong_list)]"
      ],
      "execution_count": 18,
      "outputs": [
        {
          "output_type": "execute_result",
          "data": {
            "text/html": [
              "<div>\n",
              "<style scoped>\n",
              "    .dataframe tbody tr th:only-of-type {\n",
              "        vertical-align: middle;\n",
              "    }\n",
              "\n",
              "    .dataframe tbody tr th {\n",
              "        vertical-align: top;\n",
              "    }\n",
              "\n",
              "    .dataframe thead th {\n",
              "        text-align: right;\n",
              "    }\n",
              "</style>\n",
              "<table border=\"1\" class=\"dataframe\">\n",
              "  <thead>\n",
              "    <tr style=\"text-align: right;\">\n",
              "      <th></th>\n",
              "      <th>IAID</th>\n",
              "      <th>TAXID</th>\n",
              "      <th>Description</th>\n",
              "      <th>predicted</th>\n",
              "    </tr>\n",
              "  </thead>\n",
              "  <tbody>\n",
              "    <tr>\n",
              "      <th>10418</th>\n",
              "      <td>D8005700</td>\n",
              "      <td>C10060</td>\n",
              "      <td>BWDrewsonFrank ReginaldBirkenhead1896</td>\n",
              "      <td>C10092</td>\n",
              "    </tr>\n",
              "    <tr>\n",
              "      <th>10636</th>\n",
              "      <td>D8019265</td>\n",
              "      <td>C10060</td>\n",
              "      <td>BWGoddenCharles EdwardShorne, Kent1865</td>\n",
              "      <td>C10092</td>\n",
              "    </tr>\n",
              "    <tr>\n",
              "      <th>11306</th>\n",
              "      <td>D8024716</td>\n",
              "      <td>C10060</td>\n",
              "      <td>BWHamonAlfred CharlesSt Heliers, Jersey1901</td>\n",
              "      <td>C10092</td>\n",
              "    </tr>\n",
              "    <tr>\n",
              "      <th>11815</th>\n",
              "      <td>D8009277</td>\n",
              "      <td>C10060</td>\n",
              "      <td>BWErrickerSidney EdwinSurrey1902</td>\n",
              "      <td>C10092</td>\n",
              "    </tr>\n",
              "    <tr>\n",
              "      <th>12098</th>\n",
              "      <td>D8006774</td>\n",
              "      <td>C10060</td>\n",
              "      <td>BWEarleyFrancis JosephSouthampton1860</td>\n",
              "      <td>C10092</td>\n",
              "    </tr>\n",
              "    <tr>\n",
              "      <th>14205</th>\n",
              "      <td>D8028690</td>\n",
              "      <td>C10060</td>\n",
              "      <td>BWHemburyCharlesBristol1885</td>\n",
              "      <td>C10092</td>\n",
              "    </tr>\n",
              "    <tr>\n",
              "      <th>31684</th>\n",
              "      <td>D4361597</td>\n",
              "      <td>C10060</td>\n",
              "      <td>SRogerson MBEJohn LambS2130504 June 1883</td>\n",
              "      <td>C10072</td>\n",
              "    </tr>\n",
              "    <tr>\n",
              "      <th>32903</th>\n",
              "      <td>D4319271</td>\n",
              "      <td>C10060</td>\n",
              "      <td>SMotaletAboul1015928</td>\n",
              "      <td>C10092</td>\n",
              "    </tr>\n",
              "    <tr>\n",
              "      <th>57111</th>\n",
              "      <td>D7981740</td>\n",
              "      <td>C10060</td>\n",
              "      <td>BWBradnockCharles EdwardEgremont, Cheshire1897</td>\n",
              "      <td>C10092</td>\n",
              "    </tr>\n",
              "    <tr>\n",
              "      <th>59092</th>\n",
              "      <td>D7578831</td>\n",
              "      <td>C10072</td>\n",
              "      <td>RNDruryCharles CarterAdmiral1756-1917</td>\n",
              "      <td>C10060</td>\n",
              "    </tr>\n",
              "    <tr>\n",
              "      <th>60268</th>\n",
              "      <td>D6687835</td>\n",
              "      <td>C10131</td>\n",
              "      <td>RSeltenraik John173258Cologne, Germany28 September 1864</td>\n",
              "      <td>C10072</td>\n",
              "    </tr>\n",
              "    <tr>\n",
              "      <th>64876</th>\n",
              "      <td>D8411035</td>\n",
              "      <td>C10002</td>\n",
              "      <td>SQ35Y</td>\n",
              "      <td>C10092</td>\n",
              "    </tr>\n",
              "    <tr>\n",
              "      <th>66197</th>\n",
              "      <td>D8041161</td>\n",
              "      <td>C10060</td>\n",
              "      <td>BWJonesWilliam ArthurBendigo, Victoria1877</td>\n",
              "      <td>C10092</td>\n",
              "    </tr>\n",
              "    <tr>\n",
              "      <th>66723</th>\n",
              "      <td>D7963041</td>\n",
              "      <td>C10060</td>\n",
              "      <td>BWWoodGeorge ArtlandLondon1886</td>\n",
              "      <td>C10092</td>\n",
              "    </tr>\n",
              "    <tr>\n",
              "      <th>67622</th>\n",
              "      <td>D8047059</td>\n",
              "      <td>C10060</td>\n",
              "      <td>BWLarlhamRobert GeorgeLondon1900</td>\n",
              "      <td>C10092</td>\n",
              "    </tr>\n",
              "    <tr>\n",
              "      <th>67714</th>\n",
              "      <td>D8045600</td>\n",
              "      <td>C10060</td>\n",
              "      <td>BWKnowlesEustace OliverAldeburgh1892</td>\n",
              "      <td>C10092</td>\n",
              "    </tr>\n",
              "    <tr>\n",
              "      <th>73574</th>\n",
              "      <td>C8902440</td>\n",
              "      <td>C10131</td>\n",
              "      <td>NICOLAS BILLEY alias NICOLAS BILLIEY Born DAMPIERE LES DOL, France Served in Chasseurs Britanniques; Foreign Invalids Dischar...</td>\n",
              "      <td>C10092</td>\n",
              "    </tr>\n",
              "    <tr>\n",
              "      <th>77875</th>\n",
              "      <td>C8192385</td>\n",
              "      <td>C10131</td>\n",
              "      <td>R241459 JESSEN C 30/10/1920 DENMARK</td>\n",
              "      <td>C10060</td>\n",
              "    </tr>\n",
              "    <tr>\n",
              "      <th>79397</th>\n",
              "      <td>C4093217</td>\n",
              "      <td>C10002</td>\n",
              "      <td>Record of certain R.F.C., R.N.A.S. and R.A.F. war casualties.</td>\n",
              "      <td>C10131</td>\n",
              "    </tr>\n",
              "    <tr>\n",
              "      <th>80502</th>\n",
              "      <td>C2542874</td>\n",
              "      <td>C10092</td>\n",
              "      <td>REGIMENTAL and CHARITABLE FUNDS: Individual Cases (Code 30(C)): Institution of Royal Engineers: application for a grant</td>\n",
              "      <td>C10072</td>\n",
              "    </tr>\n",
              "  </tbody>\n",
              "</table>\n",
              "</div>"
            ],
            "text/plain": [
              "           IAID  ... predicted\n",
              "10418  D8005700  ...    C10092\n",
              "10636  D8019265  ...    C10092\n",
              "11306  D8024716  ...    C10092\n",
              "11815  D8009277  ...    C10092\n",
              "12098  D8006774  ...    C10092\n",
              "14205  D8028690  ...    C10092\n",
              "31684  D4361597  ...    C10072\n",
              "32903  D4319271  ...    C10092\n",
              "57111  D7981740  ...    C10092\n",
              "59092  D7578831  ...    C10060\n",
              "60268  D6687835  ...    C10072\n",
              "64876  D8411035  ...    C10092\n",
              "66197  D8041161  ...    C10092\n",
              "66723  D7963041  ...    C10092\n",
              "67622  D8047059  ...    C10092\n",
              "67714  D8045600  ...    C10092\n",
              "73574  C8902440  ...    C10092\n",
              "77875  C8192385  ...    C10060\n",
              "79397  C4093217  ...    C10131\n",
              "80502  C2542874  ...    C10072\n",
              "\n",
              "[20 rows x 4 columns]"
            ]
          },
          "metadata": {
            "tags": []
          },
          "execution_count": 18
        }
      ]
    },
    {
      "cell_type": "markdown",
      "metadata": {
        "id": "OszKkRDueB2z"
      },
      "source": [
        "The first example highlights a data quality problem which was missed in Tutorial 1 but is handy for making a point.\n",
        "\n",
        "Due to concatenation of the words in this description (this is probably due to the way new line characters have been handled in the data preparation - oops!), none of the words in this description are in our feature list (the TF-IDF vectoriser created in Tutorial 2). This means Naive Bayes has zero evidence to go on.\n",
        "\n",
        "Run the following code to see the results."
      ]
    },
    {
      "cell_type": "code",
      "metadata": {
        "id": "Oy3inAQHVcYD",
        "colab": {
          "base_uri": "https://localhost:8080/",
          "height": 183
        },
        "outputId": "372e41cb-01b8-4832-b200-abeabf99ffcf"
      },
      "source": [
        "IAID = 'D8045600'\n",
        "sentence = descriptions[descriptions.IAID == IAID].Description.to_string(index = False)\n",
        "vec = vectoriser.transform([sentence])\n",
        "prediction = nb_model.predict(vec)\n",
        "print(\"Text \" + '\"' + sentence + '\"')\n",
        "print(\"\")\n",
        "print(\"Predicted category: \" + str(prediction[0]))\n",
        "print(\"Correct category:  \" + descriptions[descriptions.IAID == IAID].TAXID.to_string(index = False))\n",
        "print(\"\")\n",
        "print(\"Probabilities of each class are:\")\n",
        "pd.DataFrame((nb_model.predict_proba(vec) * 100).astype(int) / 100, columns = nb_model.classes_)\n",
        "\n"
      ],
      "execution_count": 19,
      "outputs": [
        {
          "output_type": "stream",
          "text": [
            "Text \" BWKnowlesEustace OliverAldeburgh1892\"\n",
            "\n",
            "Predicted category: C10092\n",
            "Correct category:   C10060\n",
            "\n",
            "Probabilities of each class are:\n"
          ],
          "name": "stdout"
        },
        {
          "output_type": "execute_result",
          "data": {
            "text/html": [
              "<div>\n",
              "<style scoped>\n",
              "    .dataframe tbody tr th:only-of-type {\n",
              "        vertical-align: middle;\n",
              "    }\n",
              "\n",
              "    .dataframe tbody tr th {\n",
              "        vertical-align: top;\n",
              "    }\n",
              "\n",
              "    .dataframe thead th {\n",
              "        text-align: right;\n",
              "    }\n",
              "</style>\n",
              "<table border=\"1\" class=\"dataframe\">\n",
              "  <thead>\n",
              "    <tr style=\"text-align: right;\">\n",
              "      <th></th>\n",
              "      <th>C10002</th>\n",
              "      <th>C10005</th>\n",
              "      <th>C10058</th>\n",
              "      <th>C10060</th>\n",
              "      <th>C10072</th>\n",
              "      <th>C10092</th>\n",
              "      <th>C10106</th>\n",
              "      <th>C10108</th>\n",
              "      <th>C10127</th>\n",
              "      <th>C10131</th>\n",
              "    </tr>\n",
              "  </thead>\n",
              "  <tbody>\n",
              "    <tr>\n",
              "      <th>0</th>\n",
              "      <td>0.08</td>\n",
              "      <td>0.17</td>\n",
              "      <td>0.07</td>\n",
              "      <td>0.14</td>\n",
              "      <td>0.13</td>\n",
              "      <td>0.21</td>\n",
              "      <td>0.03</td>\n",
              "      <td>0.03</td>\n",
              "      <td>0.04</td>\n",
              "      <td>0.05</td>\n",
              "    </tr>\n",
              "  </tbody>\n",
              "</table>\n",
              "</div>"
            ],
            "text/plain": [
              "   C10002  C10005  C10058  C10060  ...  C10106  C10108  C10127  C10131\n",
              "0    0.08    0.17    0.07    0.14  ...    0.03    0.03    0.04    0.05\n",
              "\n",
              "[1 rows x 10 columns]"
            ]
          },
          "metadata": {
            "tags": []
          },
          "execution_count": 19
        }
      ]
    },
    {
      "cell_type": "markdown",
      "metadata": {
        "id": "L196J-LMe3xK"
      },
      "source": [
        "If we now look at the prior probabilities (otherwise known as the distribution of classes in the data) we see identical numbers.\n",
        "\n",
        "The algorithm has started with its prior opinion and received no evidence to change its mind, so none of the values are updated."
      ]
    },
    {
      "cell_type": "code",
      "metadata": {
        "id": "sKDab6woYzY0",
        "colab": {
          "base_uri": "https://localhost:8080/",
          "height": 79
        },
        "outputId": "fb212a3c-686c-4877-b4c7-5a2819a46f13"
      },
      "source": [
        "priors = pd.DataFrame(columns=nb_model.classes_)\n",
        "priors.loc[1] = (np.exp(nb_model.class_log_prior_) * 100).astype(int) / 100\n",
        "priors"
      ],
      "execution_count": 20,
      "outputs": [
        {
          "output_type": "execute_result",
          "data": {
            "text/html": [
              "<div>\n",
              "<style scoped>\n",
              "    .dataframe tbody tr th:only-of-type {\n",
              "        vertical-align: middle;\n",
              "    }\n",
              "\n",
              "    .dataframe tbody tr th {\n",
              "        vertical-align: top;\n",
              "    }\n",
              "\n",
              "    .dataframe thead th {\n",
              "        text-align: right;\n",
              "    }\n",
              "</style>\n",
              "<table border=\"1\" class=\"dataframe\">\n",
              "  <thead>\n",
              "    <tr style=\"text-align: right;\">\n",
              "      <th></th>\n",
              "      <th>C10002</th>\n",
              "      <th>C10005</th>\n",
              "      <th>C10058</th>\n",
              "      <th>C10060</th>\n",
              "      <th>C10072</th>\n",
              "      <th>C10092</th>\n",
              "      <th>C10106</th>\n",
              "      <th>C10108</th>\n",
              "      <th>C10127</th>\n",
              "      <th>C10131</th>\n",
              "    </tr>\n",
              "  </thead>\n",
              "  <tbody>\n",
              "    <tr>\n",
              "      <th>1</th>\n",
              "      <td>0.08</td>\n",
              "      <td>0.17</td>\n",
              "      <td>0.07</td>\n",
              "      <td>0.14</td>\n",
              "      <td>0.13</td>\n",
              "      <td>0.21</td>\n",
              "      <td>0.03</td>\n",
              "      <td>0.03</td>\n",
              "      <td>0.04</td>\n",
              "      <td>0.05</td>\n",
              "    </tr>\n",
              "  </tbody>\n",
              "</table>\n",
              "</div>"
            ],
            "text/plain": [
              "   C10002  C10005  C10058  C10060  ...  C10106  C10108  C10127  C10131\n",
              "1    0.08    0.17    0.07    0.14  ...    0.03    0.03    0.04    0.05\n",
              "\n",
              "[1 rows x 10 columns]"
            ]
          },
          "metadata": {
            "tags": []
          },
          "execution_count": 20
        }
      ]
    },
    {
      "cell_type": "markdown",
      "metadata": {
        "id": "IxSXXUz-fSBn"
      },
      "source": [
        "The next example shows a prediction which is wrong but the algorithm wasn't super confident about it.\n",
        "\n",
        "My model predicts category 'C10092' with 54% confidence, which is wrong. However, it predicts the correct category, 'C10131', with 32% confidence.\n",
        "\n",
        "We can delve into this example a little further later to try and understand this uncertainty. But for now reconsider the question we asked above...\n",
        "\n",
        "**Think from the perspective of the Archive. Would you be happy to label this specific example as 'C10131' in Discovery, or do you feel the user needs to know about the confidence score?**"
      ]
    },
    {
      "cell_type": "code",
      "metadata": {
        "id": "0uL8SOjLZGyx",
        "colab": {
          "base_uri": "https://localhost:8080/",
          "height": 183
        },
        "outputId": "c52175aa-a36d-4626-be2d-7338e08995b7"
      },
      "source": [
        "IAID = 'C8902440'\n",
        "sentence = descriptions[descriptions.IAID == IAID].Description.to_string(index = False)\n",
        "vec = vectoriser.transform([sentence])\n",
        "prediction = nb_model.predict(vec)\n",
        "print(\"Text \" + '\"' + sentence + '\"')\n",
        "print(\"\")\n",
        "print(\"Predicted category: \" + str(prediction[0]))\n",
        "print(\"Correct category:  \" + descriptions[descriptions.IAID == IAID].TAXID.to_string(index = False))\n",
        "print(\"\")\n",
        "print(\"Probabilities of each class are:\")\n",
        "pd.DataFrame((nb_model.predict_proba(vec) * 100).astype(int) / 100, columns = nb_model.classes_)\n",
        "\n"
      ],
      "execution_count": 21,
      "outputs": [
        {
          "output_type": "stream",
          "text": [
            "Text \"  NICOLAS BILLEY alias NICOLAS BILLIEY Born DAMPIERE LES DOL, France Served in Chasseurs Britanniques; Foreign Invalids Dischar...\"\n",
            "\n",
            "Predicted category: C10092\n",
            "Correct category:   C10131\n",
            "\n",
            "Probabilities of each class are:\n"
          ],
          "name": "stdout"
        },
        {
          "output_type": "execute_result",
          "data": {
            "text/html": [
              "<div>\n",
              "<style scoped>\n",
              "    .dataframe tbody tr th:only-of-type {\n",
              "        vertical-align: middle;\n",
              "    }\n",
              "\n",
              "    .dataframe tbody tr th {\n",
              "        vertical-align: top;\n",
              "    }\n",
              "\n",
              "    .dataframe thead th {\n",
              "        text-align: right;\n",
              "    }\n",
              "</style>\n",
              "<table border=\"1\" class=\"dataframe\">\n",
              "  <thead>\n",
              "    <tr style=\"text-align: right;\">\n",
              "      <th></th>\n",
              "      <th>C10002</th>\n",
              "      <th>C10005</th>\n",
              "      <th>C10058</th>\n",
              "      <th>C10060</th>\n",
              "      <th>C10072</th>\n",
              "      <th>C10092</th>\n",
              "      <th>C10106</th>\n",
              "      <th>C10108</th>\n",
              "      <th>C10127</th>\n",
              "      <th>C10131</th>\n",
              "    </tr>\n",
              "  </thead>\n",
              "  <tbody>\n",
              "    <tr>\n",
              "      <th>0</th>\n",
              "      <td>0.01</td>\n",
              "      <td>0.0</td>\n",
              "      <td>0.0</td>\n",
              "      <td>0.03</td>\n",
              "      <td>0.04</td>\n",
              "      <td>0.54</td>\n",
              "      <td>0.0</td>\n",
              "      <td>0.01</td>\n",
              "      <td>0.01</td>\n",
              "      <td>0.32</td>\n",
              "    </tr>\n",
              "  </tbody>\n",
              "</table>\n",
              "</div>"
            ],
            "text/plain": [
              "   C10002  C10005  C10058  C10060  ...  C10106  C10108  C10127  C10131\n",
              "0    0.01     0.0     0.0    0.03  ...     0.0    0.01    0.01    0.32\n",
              "\n",
              "[1 rows x 10 columns]"
            ]
          },
          "metadata": {
            "tags": []
          },
          "execution_count": 21
        }
      ]
    },
    {
      "cell_type": "markdown",
      "metadata": {
        "id": "sNVm32NGGBm6"
      },
      "source": [
        "# **Which words matter?**\n",
        "\n",
        "In the sections above we looked at the output of the algorithm for specific examples. This told us how confident the algorithm was in its classification and how it compared to other classifications. In the last example it was only 54% confident in the given answer, and 32% in the next alternative.\n",
        "\n",
        "If we want to delve further into the result we can look at the individual word/ngram probabilities. This is easily done by first of all identifying the words in the description which are included in the 'vectoriser', i.e. the top 5000 (or whatever value was used in Tutorial 3) words/ngrams in the training data.\n",
        "\n",
        "The code below will generate a graph of the tf-idf scores for each word/ngram in the description (which is extracted by the vectoriser). The tf-idf weightings are used in the calculation to weight the influence of each word. So we see that \"les\" has the highest value, and \"in\" has the lowest. This is because \"les\" is relatively unusual in the entire training corpus, while \"in\" is a very common word.\n",
        "\n",
        "It turns out in this example the weightings don't matter so much as the relative probabilities across the classes are rather distinct. The next set of graphs will demonstrate this."
      ]
    },
    {
      "cell_type": "code",
      "metadata": {
        "id": "tpnwFgLJICe4",
        "colab": {
          "base_uri": "https://localhost:8080/",
          "height": 415
        },
        "outputId": "06781b23-0484-4753-8f02-07bb7b9ab78d"
      },
      "source": [
        "features = vec.nonzero()\n",
        "feature_names = np.take(vectoriser.get_feature_names(), features[1])\n",
        "feature_values = vec[features].T\n",
        "tfidf_data = pd.DataFrame([(x[0],x[1].item()) for x in zip(feature_names, feature_values)], columns = ['ngram','tfidf'])\n",
        "plt.figure(figsize=(20,6))\n",
        "sns.barplot(data = tfidf_data, x = 'ngram', y = 'tfidf')\n",
        "plt.xticks(rotation = 45, size = 10)\n",
        "plt.show()"
      ],
      "execution_count": 22,
      "outputs": [
        {
          "output_type": "display_data",
          "data": {
            "image/png": "[encoded data removed]",
            "text/plain": [
              "<Figure size 1440x432 with 1 Axes>"
            ]
          },
          "metadata": {
            "tags": [],
            "needs_background": "light"
          }
        }
      ]
    },
    {
      "cell_type": "markdown",
      "metadata": {
        "id": "A9qpcl4kfgrV"
      },
      "source": [
        "The next piece of code outputs a graph for each word/ngram feature. Each graph shows the probability of that word appearing in a description for each class of record. The graph for \"in\" for example shows that it appears across all of the classes and that it is relatively more common in 2 classes in particular (\"C10092\" and \"C10106\"). This suggests descriptions in those classes follow a fixed format.\n",
        "\n",
        "If turn our attention to the graphs for \"served in\", \"served\" and \"born\", we see that they are fairly common in descriptions of class \"C10092\" but rare in all other classes. Again this suggests a common format for records of that class.\n",
        "\n",
        "The graph for \"france\" suggests that only records of \"C10131\" contain the word France as there isn't a hint of a bar for the other classes. We will come back to this later.\n"
      ]
    },
    {
      "cell_type": "code",
      "metadata": {
        "id": "EL2CnWm2LwmW",
        "colab": {
          "base_uri": "https://localhost:8080/",
          "height": 213
        },
        "outputId": "5d310a64-2998-4729-a062-1af12f3cc64f"
      },
      "source": [
        "feature_probs = np.exp(nb_model.feature_log_prob_[:,features[1]])\n",
        "feature_probs.shape\n",
        "feature_probs = pd.DataFrame(feature_probs.T, columns = nb_model.classes_)\n",
        "feature_probs['ngram'] = feature_names\n",
        "feature_probs\n",
        "feature_probs = feature_probs.melt(['ngram'], var_name='taxid',value_name='probability')\n",
        "g = sns.FacetGrid(feature_probs, col = 'ngram', hue = 'ngram')\n",
        "g.map(sns.barplot, 'probability', 'taxid', hue_order = feature_names)"
      ],
      "execution_count": 23,
      "outputs": [
        {
          "output_type": "stream",
          "text": [
            "/usr/local/lib/python3.6/dist-packages/seaborn/axisgrid.py:643: UserWarning: Using the barplot function without specifying `order` is likely to produce an incorrect plot.\n",
            "  warnings.warn(warning)\n"
          ],
          "name": "stderr"
        },
        {
          "output_type": "execute_result",
          "data": {
            "text/plain": [
              "<seaborn.axisgrid.FacetGrid at 0x7fca73d2bb38>"
            ]
          },
          "metadata": {
            "tags": []
          },
          "execution_count": 23
        },
        {
          "output_type": "display_data",
          "data": {
            "image/png": "[encoded data removed]",
            "text/plain": [
              "<Figure size 1944x216 with 9 Axes>"
            ]
          },
          "metadata": {
            "tags": [],
            "needs_background": "light"
          }
        }
      ]
    },
    {
      "cell_type": "markdown",
      "metadata": {
        "id": "kEpH3gtLhIHL"
      },
      "source": [
        "We now have three bits of information which help explain the classification of 54% in favour of class \"C10092\" and 32% in favour of class \"C10131\" (the correct value).\n",
        "\n",
        "\n",
        "\n",
        "1.   The prior probability of \"C10092\" is 21% vs. 5% for \"C10131\" (see table of prior probabilities above)\n",
        "2.   The word \"france\" is weighted slightly higher than the words \"served in\", \"served\" and \"born\" in the tf-idf scores. But it is 3 against 1\n",
        "3.   \"served in\", \"served\" and \"born\" provide strong evidence in favour of \"C10092\" but \"france\" provides even stronger evidence that it is a \"C10131\".\n",
        "\n",
        "If we think that our prior probability for \"C10092\" was four times that of \"C10131\" (21% to 5%), and our posterior is much closer (54% to 32%) it shows that the influence of the word \"france\" on its own has outweighed the influence of the other three words - just not quite enough.\n",
        "\n",
        "After the next example we will look at this more closely.\n",
        "\n"
      ]
    },
    {
      "cell_type": "markdown",
      "metadata": {
        "id": "-LNQ-UrJi7WT"
      },
      "source": [
        "Let's look at the example which was 99% in favour of class \"C10131\". We will run exactly the same code again."
      ]
    },
    {
      "cell_type": "code",
      "metadata": {
        "id": "FZx3lGTHjPhS",
        "colab": {
          "base_uri": "https://localhost:8080/",
          "height": 675
        },
        "outputId": "9308d3c4-504a-4d42-fa88-dfdc18213240"
      },
      "source": [
        "IAID = 'C15544098'\n",
        "sentence = descriptions[descriptions.IAID == IAID].Description.to_string(index = False)\n",
        "vec = vectoriser.transform([sentence])\n",
        "features = vec.nonzero()\n",
        "feature_names = np.take(vectoriser.get_feature_names(), features[1])\n",
        "feature_values = vec[features].T\n",
        "tfidf_data = pd.DataFrame([(x[0],x[1].item()) for x in zip(feature_names, feature_values)], columns = ['ngram','tfidf'])\n",
        "\n",
        "plt.figure(figsize=(20,10))\n",
        "sns.barplot(data = tfidf_data, x = 'ngram', y = 'tfidf')\n",
        "#plt.legend(bbox_to_anchor=(1.05, 1), loc=2, borderaxespad=0.)\n",
        "plt.xticks(rotation = 45, size = 10)\n",
        "plt.show()"
      ],
      "execution_count": 25,
      "outputs": [
        {
          "output_type": "display_data",
          "data": {
            "image/png": "[encoded data removed]",
            "text/plain": [
              "<Figure size 1440x720 with 1 Axes>"
            ]
          },
          "metadata": {
            "tags": [],
            "needs_background": "light"
          }
        }
      ]
    },
    {
      "cell_type": "markdown",
      "metadata": {
        "id": "HDYsLLIJyV0L"
      },
      "source": [
        "The graph above shows the tf-idf scores for the ngram features generated from this description. As you can see there are a lot more features than in the previous example, and a lot of them are ngrams rather than just words. This is interesting because it is perhaps surprising that some of these are common enough (e.g. \"taxation in Wiltshire\") to be in the top 5000 words/ngrams. It is a nice demonstration of tf-idf in action though, with words such as \"the\" and \"of\" having much lower scores than rarer words like \"nathaniel\".\n",
        "\n",
        "Now we will generate the probability graphs for each ngram. Be warned there will be a lot of graphs! We don't need to examine each one though."
      ]
    },
    {
      "cell_type": "code",
      "metadata": {
        "id": "rFyeb6w1j4c4",
        "colab": {
          "base_uri": "https://localhost:8080/",
          "height": 1000
        },
        "outputId": "630f091b-13a2-4d84-9dbd-ad7f283b5bcd"
      },
      "source": [
        "feature_probs = np.exp(nb_model.feature_log_prob_[:,features[1]])\n",
        "feature_probs.shape\n",
        "feature_probs = pd.DataFrame(feature_probs.T, columns = nb_model.classes_)\n",
        "feature_probs['ngram'] = feature_names\n",
        "feature_probs = feature_probs[feature_probs.ngram.isin(tfidf_data.ngram)]\n",
        "#feature_probs\n",
        "feature_probs = feature_probs.melt(['ngram'], var_name='taxid',value_name='probability')\n",
        "#ordered_probs = feature_probs.ngram.value_counts().index\n",
        "g = sns.FacetGrid(feature_probs, col = 'ngram', hue = 'ngram', col_wrap=7)\n",
        "g.map(sns.barplot, 'probability', 'taxid', hue_order = feature_names)\n",
        "plt.show()"
      ],
      "execution_count": 26,
      "outputs": [
        {
          "output_type": "stream",
          "text": [
            "/usr/local/lib/python3.6/dist-packages/seaborn/axisgrid.py:643: UserWarning: Using the barplot function without specifying `order` is likely to produce an incorrect plot.\n",
            "  warnings.warn(warning)\n"
          ],
          "name": "stderr"
        },
        {
          "output_type": "display_data",
          "data": {
            "image/png": "[encoded data removed]",
            "text/plain": [
              "<Figure size 1512x1296 with 38 Axes>"
            ]
          },
          "metadata": {
            "tags": [],
            "needs_background": "light"
          }
        }
      ]
    },
    {
      "cell_type": "markdown",
      "metadata": {
        "id": "l04wb8aP2lxf"
      },
      "source": [
        "Let's focus on the graph for **\"taxation\"** - it in in there somewhere.\n",
        "\n",
        "It should remind you of the graph for \"france\" from the previous example. It is completely dominated by class 'C10106'. **Why could this be?**\n",
        "\n",
        "This is the point where we should look at how all of this taxonomy data was created. The taxonomy system is **rules based** and one of the rules states that any description containing the word \"taxation\" (along with \"tax\", \"taxes\" etc.) will be classified as 'C10106'. Similarly any description containing the word 'france' (or 'germany' or 'belgium' etc.) will be classed as 'C10131'. If Naive Bayes didn't add one to all the tf-idf scores then the probability of 'C10106' given the word 'taxation' would always be 100% - no matter what the other words were. If the description was 'france taxation' the model would fall apart as all classes would come out as 0%. Disaster! So adding one to every value allows a 'france taxation' to come out as 50% for each class (roughly).\n",
        "\n",
        "Now look at some of the other graphs which are dominated by class 'C10106' such as 'variant surname'. These two words aren't related to taxation but if you search for that phrase in Discovery you find that it appears a lot in series 'E115' along with the words 'tax' or 'taxation'. In our training data this phrase and others such as 'certificate of residence' are effectively being identified as strong features of the 'taxation' category. They are then reinforcing the classification. **If we took 'taxation' out of the description we would still get the same result**\n",
        "\n",
        "Additionally, 'variant', 'variant surname', 'the variant', and 'the variant surname' are all features with high tf-idf weightings and would be classified as 99% (roughly) the same class yet we would not consider them important features for that class. This is an example of where the Naive part of Naive Bayes isn't such a good assumption. 'the variant surname' and 'variant surname' are not independent at all: the existence of the first implies the existence of the second.\n",
        "\n",
        "**We will discuss these issues in the final session**"
      ]
    },
    {
      "cell_type": "markdown",
      "metadata": {
        "id": "pqa6JAZ9Yx0T"
      },
      "source": [
        "#**Conclusion**\n",
        "\n",
        "This tutorial has highlighted a number of ways of interpreting a machine learning model, and a big flaw in our training process. Here is what we've learned:\n",
        "\n",
        "\n",
        "\n",
        "*   Bayes rule and how we can combine prior knowledge with evidence\n",
        "*   How the Naive Bayes algorithm involve simple calculations based on word frequency\n",
        "*   How an ML algorithm doesn't just give a classification, it can also return a confidence in that result\n",
        "*   How we can visualise the feature weightings inside the algorithm to understand how it came to its decision\n",
        "*   Why training data from a rules based system means our ML algorithm can replicate those rules but with unintentional consequences\n",
        "\n",
        "\n",
        "\n",
        "In the next tutorial we see if we can perform the same analysis of the Support Vector Machine algorithm."
      ]
    }
  ]
}