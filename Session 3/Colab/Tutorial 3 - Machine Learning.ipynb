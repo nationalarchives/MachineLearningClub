{
  "nbformat": 4,
  "nbformat_minor": 0,
  "metadata": {
    "colab": {
      "name": "Tutorial 3 - Machine Learning.ipynb",
      "provenance": [],
      "collapsed_sections": []
    },
    "kernelspec": {
      "name": "python3",
      "display_name": "Python 3"
    }
  },
  "cells": [
    {
      "cell_type": "markdown",
      "metadata": {
        "id": "Liumf1BGmJC4"
      },
      "source": [
        "## **Machine Learning with Discovery records**\n",
        "\n",
        "** This tutorial uses data created by Tutorial 2. If you haven't already done that one, please go through it now **\n",
        "\n",
        "Now that we've prepared our datasets it is time to try some machine learning. This tutorial will follow a repetitive pattern:\n",
        "\n",
        "\n",
        "\n",
        "*   Load one of the preprocessed files\n",
        "*   Run machine learning algorithms\n",
        "\n",
        "*   Compare their results\n",
        "\n",
        "We will also encounter some new ML algorithms for the first time and also use an old one. The algorithms we will use are:\n",
        "\n",
        "\n",
        "\n",
        "*   Decision Tree\n",
        "*   Naive Bayes\n",
        "\n",
        "*   Support Vector Machine\n",
        "\n",
        "\n",
        "A full explanation of the new ones will be provided in supplementary material but briefly, Naive Bayes is a very simple but effective model based on probabilities, and Support Vector Machine (SVM) is more complex but analogous to the \"placing the string between the dots\" activity we did in session 2.\n",
        "\n",
        "So we have 3 datasets and 3 algorithms, which makes 9 possible experiments. The tutorial is designed to make it easy to try all combinations and compare the results at the end.\n",
        "\n",
        "\n",
        "\n",
        "\n",
        "\n",
        "\n",
        "\n"
      ]
    },
    {
      "cell_type": "code",
      "metadata": {
        "id": "sYGUqUPWJ6-l"
      },
      "source": [
        "import sys\r\n",
        "import os"
      ],
      "execution_count": 1,
      "outputs": []
    },
    {
      "cell_type": "code",
      "metadata": {
        "id": "mX8LgpKkMTp5"
      },
      "source": [
        "# Where do you want to get data from - Google Drive or Github\r\n",
        "data_source = \"Github\"  # Change to either Github or Drive - if Drive, copy the data into a folder called \"Data\" within your \"My Drive folder\""
      ],
      "execution_count": 2,
      "outputs": []
    },
    {
      "cell_type": "code",
      "metadata": {
        "id": "u5W4AW8JJ_1K",
        "outputId": "88a116f6-c66c-48e9-dfb8-49b5da2e21b9",
        "colab": {
          "base_uri": "https://localhost:8080/"
        }
      },
      "source": [
        "if data_source == \"Github\":\r\n",
        "    !git clone https://github.com/nationalarchives/MachineLearningClub.git\r\n",
        "    sys.path.insert(0, 'MachineLearningClub')\r\n",
        "    data_folder = \"MachineLearningClub/Session 3/Data/\"\r\n",
        "    os.listdir(data_folder)\r\n",
        "else:\r\n",
        "    # Connect to gdrive\r\n",
        "    from google.colab import drive\r\n",
        "    drive.mount('/content/gdrive')\r\n",
        "    data_folder = \"/content/gdrive/My Drive/Data/\"\r\n",
        "    os.listdir(data_folder)"
      ],
      "execution_count": 3,
      "outputs": [
        {
          "output_type": "stream",
          "text": [
            "Cloning into 'MachineLearningClub'...\n",
            "remote: Enumerating objects: 87, done.\u001b[K\n",
            "remote: Counting objects: 100% (87/87), done.\u001b[K\n",
            "remote: Compressing objects: 100% (87/87), done.\u001b[K\n",
            "remote: Total 87 (delta 28), reused 0 (delta 0), pack-reused 0\u001b[K\n",
            "Unpacking objects: 100% (87/87), done.\n"
          ],
          "name": "stdout"
        }
      ]
    },
    {
      "cell_type": "markdown",
      "metadata": {
        "id": "acrFqgYmmwmF"
      },
      "source": [
        "This piece of code imports the libraries that we will be using in the first part of this notebook."
      ]
    },
    {
      "cell_type": "code",
      "metadata": {
        "id": "WY6Or3c1tB-m"
      },
      "source": [
        "import numpy as np\n",
        "import pandas as pd\n",
        "import matplotlib.pyplot as plt\n",
        "import os\n",
        "import sklearn      # The most common Python Machine Learning library - scikit learn\n",
        "from sklearn.model_selection import train_test_split  # Used to create training and test data\n",
        "from sklearn.metrics import confusion_matrix, accuracy_score, f1_score, balanced_accuracy_score\n",
        "import seaborn as sns\n",
        "from sklearn import svm\n",
        "from sklearn.ensemble import RandomForestClassifier, GradientBoostingClassifier\n",
        "from sklearn.naive_bayes import GaussianNB, MultinomialNB\n",
        "from sklearn.feature_extraction.text import TfidfVectorizer\n",
        "from sklearn.linear_model import SGDClassifier, LogisticRegression\n",
        "from sklearn.tree import DecisionTreeClassifier\n",
        "from sklearn.feature_extraction.text import TfidfVectorizer, CountVectorizer\n",
        "from sklearn.metrics import precision_score, recall_score, confusion_matrix, classification_report, accuracy_score, f1_score\n",
        "from operator import itemgetter\n",
        "from nltk.stem.porter import *\n",
        "import pickle\n",
        "from nltk import toktok    "
      ],
      "execution_count": 4,
      "outputs": []
    },
    {
      "cell_type": "markdown",
      "metadata": {
        "id": "6-5hs57dCNoM"
      },
      "source": [
        "This tutorial uses datasets created by tutorial 2. \n",
        "\n",
        "The files are called:\n",
        "\n",
        "\n",
        "*   word_tfidf.pck\n",
        "*   ngram_tfidf.pck\n",
        "\n",
        "*   stemmed_ngram_tfidf.pck\n",
        "\n",
        "\n",
        "**If they don't appear in the list output by the following line of code then rerun tutorial 2.**\n",
        "\n"
      ]
    },
    {
      "cell_type": "code",
      "metadata": {
        "id": "U1Krv8EYCnqK",
        "colab": {
          "base_uri": "https://localhost:8080/"
        },
        "outputId": "51fae3ad-b38e-4767-8dab-36634c048e7b"
      },
      "source": [
        "os.listdir(data_folder)"
      ],
      "execution_count": 5,
      "outputs": [
        {
          "output_type": "execute_result",
          "data": {
            "text/plain": [
              "['ngram_tfidf.pck',\n",
              " 'taxonomyids_and_names.txt',\n",
              " 'topN_taxonomy.csv',\n",
              " 'word_tfidf.pck',\n",
              " 'taxonomy_descriptions.txt',\n",
              " 'stemmed_ngram_tfidf.pck']"
            ]
          },
          "metadata": {
            "tags": []
          },
          "execution_count": 5
        }
      ]
    },
    {
      "cell_type": "markdown",
      "metadata": {
        "id": "P3V6RbtrU6Su"
      },
      "source": [
        "We will start by setting up some variables for later use. First of all we set the value of N. If you ran the previous tutorials with it set to 10 (the default) then leave it as it is, otherwise change it to match what you did in those tutorials. Next we need to recreate the stemming function from tutorial 2.\n",
        "Then we create two lists (data_sources and algorithms) which hold the names of our data files (that you just checked existed) and the ML algorithms we're going to try out on our data, respectively.\n",
        "Finally, we create a table to capture the results of our experiments in. This will contain a row for each combination of data and algorithm, so 9 in total (3 x 3)."
      ]
    },
    {
      "cell_type": "code",
      "metadata": {
        "id": "F3O3jiavVAF1",
        "colab": {
          "base_uri": "https://localhost:8080/",
          "height": 325
        },
        "outputId": "97f00128-b492-4087-d9f9-ad80aad74c44"
      },
      "source": [
        "N = 10\n",
        "\n",
        "class PorterTokenizer:\n",
        "    def __init__(self):\n",
        "        self.porter = PorterStemmer()\n",
        "    def __call__(self, doc):\n",
        "        ttt = toktok.ToktokTokenizer()\n",
        "        return [self.porter.stem(t) for t in ttt.tokenize(doc)]\n",
        "\n",
        "data_sources = [['Word level TFIDF', 'word_tfidf.pck', 'word'],\n",
        "                ['NGram level TFIDF', 'ngram_tfidf.pck', 'ngram'],\n",
        "                ['Stemmed NGram TFIDF', 'stemmed_ngram_tfidf.pck', 'stemmed']]\n",
        "\n",
        "algorithms = [['Decision Tree', DecisionTreeClassifier(max_depth=10), False, 'DT'],\n",
        "              ['Naive Bayes', MultinomialNB(), True, 'NB'],\n",
        "              ['Support Vector Machine', svm.SVC(), False, 'SVM']]\n",
        "\n",
        "results = pd.DataFrame(columns = ['data', 'algorithm', 'accuracy', 'balanced_accuracy'])\n",
        "\n",
        "for d in data_sources:\n",
        "    for a in algorithms:\n",
        "        results.loc[len(results)] = [d[0],a[0],0,0]\n",
        "results\n"
      ],
      "execution_count": 6,
      "outputs": [
        {
          "output_type": "execute_result",
          "data": {
            "text/html": [
              "<div>\n",
              "<style scoped>\n",
              "    .dataframe tbody tr th:only-of-type {\n",
              "        vertical-align: middle;\n",
              "    }\n",
              "\n",
              "    .dataframe tbody tr th {\n",
              "        vertical-align: top;\n",
              "    }\n",
              "\n",
              "    .dataframe thead th {\n",
              "        text-align: right;\n",
              "    }\n",
              "</style>\n",
              "<table border=\"1\" class=\"dataframe\">\n",
              "  <thead>\n",
              "    <tr style=\"text-align: right;\">\n",
              "      <th></th>\n",
              "      <th>data</th>\n",
              "      <th>algorithm</th>\n",
              "      <th>accuracy</th>\n",
              "      <th>balanced_accuracy</th>\n",
              "    </tr>\n",
              "  </thead>\n",
              "  <tbody>\n",
              "    <tr>\n",
              "      <th>0</th>\n",
              "      <td>Word level TFIDF</td>\n",
              "      <td>Decision Tree</td>\n",
              "      <td>0</td>\n",
              "      <td>0</td>\n",
              "    </tr>\n",
              "    <tr>\n",
              "      <th>1</th>\n",
              "      <td>Word level TFIDF</td>\n",
              "      <td>Naive Bayes</td>\n",
              "      <td>0</td>\n",
              "      <td>0</td>\n",
              "    </tr>\n",
              "    <tr>\n",
              "      <th>2</th>\n",
              "      <td>Word level TFIDF</td>\n",
              "      <td>Support Vector Machine</td>\n",
              "      <td>0</td>\n",
              "      <td>0</td>\n",
              "    </tr>\n",
              "    <tr>\n",
              "      <th>3</th>\n",
              "      <td>NGram level TFIDF</td>\n",
              "      <td>Decision Tree</td>\n",
              "      <td>0</td>\n",
              "      <td>0</td>\n",
              "    </tr>\n",
              "    <tr>\n",
              "      <th>4</th>\n",
              "      <td>NGram level TFIDF</td>\n",
              "      <td>Naive Bayes</td>\n",
              "      <td>0</td>\n",
              "      <td>0</td>\n",
              "    </tr>\n",
              "    <tr>\n",
              "      <th>5</th>\n",
              "      <td>NGram level TFIDF</td>\n",
              "      <td>Support Vector Machine</td>\n",
              "      <td>0</td>\n",
              "      <td>0</td>\n",
              "    </tr>\n",
              "    <tr>\n",
              "      <th>6</th>\n",
              "      <td>Stemmed NGram TFIDF</td>\n",
              "      <td>Decision Tree</td>\n",
              "      <td>0</td>\n",
              "      <td>0</td>\n",
              "    </tr>\n",
              "    <tr>\n",
              "      <th>7</th>\n",
              "      <td>Stemmed NGram TFIDF</td>\n",
              "      <td>Naive Bayes</td>\n",
              "      <td>0</td>\n",
              "      <td>0</td>\n",
              "    </tr>\n",
              "    <tr>\n",
              "      <th>8</th>\n",
              "      <td>Stemmed NGram TFIDF</td>\n",
              "      <td>Support Vector Machine</td>\n",
              "      <td>0</td>\n",
              "      <td>0</td>\n",
              "    </tr>\n",
              "  </tbody>\n",
              "</table>\n",
              "</div>"
            ],
            "text/plain": [
              "                  data               algorithm accuracy balanced_accuracy\n",
              "0     Word level TFIDF           Decision Tree        0                 0\n",
              "1     Word level TFIDF             Naive Bayes        0                 0\n",
              "2     Word level TFIDF  Support Vector Machine        0                 0\n",
              "3    NGram level TFIDF           Decision Tree        0                 0\n",
              "4    NGram level TFIDF             Naive Bayes        0                 0\n",
              "5    NGram level TFIDF  Support Vector Machine        0                 0\n",
              "6  Stemmed NGram TFIDF           Decision Tree        0                 0\n",
              "7  Stemmed NGram TFIDF             Naive Bayes        0                 0\n",
              "8  Stemmed NGram TFIDF  Support Vector Machine        0                 0"
            ]
          },
          "metadata": {
            "tags": []
          },
          "execution_count": 6
        }
      ]
    },
    {
      "cell_type": "code",
      "metadata": {
        "id": "s8kZpnLiu84f"
      },
      "source": [
        "data_sources = [['Word level TFIDF', 'word_tfidf.pck', 'word'],\n",
        "                ['NGram level TFIDF', 'ngram_tfidf.pck', 'ngram'],\n",
        "                ['Stemmed NGram TFIDF', 'stemmed_ngram_tfidf.pck', 'stemmed']]\n",
        "\n",
        "algorithms = [['Decision Tree', DecisionTreeClassifier(max_depth=10), False, 'DT'],\n",
        "              ['Naive Bayes', GaussianNB(), True, 'NB'],\n",
        "              ['Support Vector Machine', svm.SVC(), False, 'SVM']]"
      ],
      "execution_count": 7,
      "outputs": []
    },
    {
      "cell_type": "markdown",
      "metadata": {
        "id": "ihZO2kOSgtP5"
      },
      "source": [
        "We also need to load the Discovery data and descriptions which we have used in our tutorials so far. The first file is the descriptions for the top 10 categories (assuming that's what you set N to be in tutorial 1), and the second is the taxonomy description lookup.\n",
        "Just to check it is all working you should see the number of records by category, which should match what you created in tutorial 1 (no need to check unless something looks really odd)."
      ]
    },
    {
      "cell_type": "code",
      "metadata": {
        "id": "aNW6VQhAryeM",
        "colab": {
          "base_uri": "https://localhost:8080/",
          "height": 355
        },
        "outputId": "5c25c14c-4e12-49b6-af32-0692769e60e8"
      },
      "source": [
        "descriptions = pd.read_csv(data_folder + 'topN_taxonomy.csv',\n",
        "                           delimiter=\"|\", header=0, lineterminator='\\n')\n",
        "descriptions = descriptions.drop(descriptions.columns[[0]], axis=1) \n",
        "descriptions.columns = [\"IAID\",\"TAXID\",\"Description\"]\n",
        "\n",
        "taxonomy = pd.read_csv(data_folder + 'taxonomyids_and_names.txt',\n",
        "                           delimiter=\"|\", header=None, lineterminator='\\n')\n",
        "taxonomy.columns = [\"TAXID\",\"TaxonomyCategory\"]\n",
        "\n",
        "topN = pd.merge(descriptions, taxonomy, how = 'inner').groupby(['TAXID', 'TaxonomyCategory']).size().reset_index(name='Count').sort_values('Count', ascending=False)\n",
        "topN"
      ],
      "execution_count": 8,
      "outputs": [
        {
          "output_type": "execute_result",
          "data": {
            "text/html": [
              "<div>\n",
              "<style scoped>\n",
              "    .dataframe tbody tr th:only-of-type {\n",
              "        vertical-align: middle;\n",
              "    }\n",
              "\n",
              "    .dataframe tbody tr th {\n",
              "        vertical-align: top;\n",
              "    }\n",
              "\n",
              "    .dataframe thead th {\n",
              "        text-align: right;\n",
              "    }\n",
              "</style>\n",
              "<table border=\"1\" class=\"dataframe\">\n",
              "  <thead>\n",
              "    <tr style=\"text-align: right;\">\n",
              "      <th></th>\n",
              "      <th>TAXID</th>\n",
              "      <th>TaxonomyCategory</th>\n",
              "      <th>Count</th>\n",
              "    </tr>\n",
              "  </thead>\n",
              "  <tbody>\n",
              "    <tr>\n",
              "      <th>5</th>\n",
              "      <td>C10092</td>\n",
              "      <td>Army</td>\n",
              "      <td>17113</td>\n",
              "    </tr>\n",
              "    <tr>\n",
              "      <th>1</th>\n",
              "      <td>C10005</td>\n",
              "      <td>Art, architecture and design</td>\n",
              "      <td>14114</td>\n",
              "    </tr>\n",
              "    <tr>\n",
              "      <th>3</th>\n",
              "      <td>C10060</td>\n",
              "      <td>Medals</td>\n",
              "      <td>12049</td>\n",
              "    </tr>\n",
              "    <tr>\n",
              "      <th>4</th>\n",
              "      <td>C10072</td>\n",
              "      <td>Navy</td>\n",
              "      <td>10691</td>\n",
              "    </tr>\n",
              "    <tr>\n",
              "      <th>0</th>\n",
              "      <td>C10002</td>\n",
              "      <td>Air Force</td>\n",
              "      <td>6682</td>\n",
              "    </tr>\n",
              "    <tr>\n",
              "      <th>2</th>\n",
              "      <td>C10058</td>\n",
              "      <td>Maps and plans</td>\n",
              "      <td>5805</td>\n",
              "    </tr>\n",
              "    <tr>\n",
              "      <th>9</th>\n",
              "      <td>C10131</td>\n",
              "      <td>Europe and Russia</td>\n",
              "      <td>4790</td>\n",
              "    </tr>\n",
              "    <tr>\n",
              "      <th>8</th>\n",
              "      <td>C10127</td>\n",
              "      <td>Indian Subcontinent</td>\n",
              "      <td>3275</td>\n",
              "    </tr>\n",
              "    <tr>\n",
              "      <th>6</th>\n",
              "      <td>C10106</td>\n",
              "      <td>Taxation</td>\n",
              "      <td>3144</td>\n",
              "    </tr>\n",
              "    <tr>\n",
              "      <th>7</th>\n",
              "      <td>C10108</td>\n",
              "      <td>Trade and commerce</td>\n",
              "      <td>2891</td>\n",
              "    </tr>\n",
              "  </tbody>\n",
              "</table>\n",
              "</div>"
            ],
            "text/plain": [
              "    TAXID              TaxonomyCategory  Count\n",
              "5  C10092                          Army  17113\n",
              "1  C10005  Art, architecture and design  14114\n",
              "3  C10060                        Medals  12049\n",
              "4  C10072                          Navy  10691\n",
              "0  C10002                     Air Force   6682\n",
              "2  C10058                Maps and plans   5805\n",
              "9  C10131             Europe and Russia   4790\n",
              "8  C10127           Indian Subcontinent   3275\n",
              "6  C10106                      Taxation   3144\n",
              "7  C10108            Trade and commerce   2891"
            ]
          },
          "metadata": {
            "tags": []
          },
          "execution_count": 8
        }
      ]
    },
    {
      "cell_type": "markdown",
      "metadata": {
        "id": "6TpTTMJ2nEjN"
      },
      "source": [
        "To use the tutorial all you need to do is change the first two variables in the code below (DATA and ALGORITHM) and run the code. The results table will be updated each time you run to keep a record of results for each combination. Algorithm 3 (SVM) is quite slow, so be patient with it. Its runtime will depend on how many features you created in tutorial 2, so you may want to rerun that one will a smaller MAX_FEATURES value if you're finding it too slow.\n",
        "\n",
        "Each time you run the code it will output:\n",
        "\n",
        "\n",
        "*   The name of the algorithm\n",
        "*   The name of the dataset\n",
        "*   Training and Testing accuracy figures.\n",
        "*   A confusion matrix with a lookup table of taxonomy categories\n",
        "\n",
        "\n",
        "It will also save your model into the data folder for the next tutorial.\n",
        "\n",
        "After each run inspect the confusion matrix to look for any categories which are often misclassified. In particular look for big numbers (or squares which are not coloured black) off the diagonal.\n",
        "\n",
        "Things to remember from previous sessions:\n",
        "\n",
        "\n",
        "*   There are two accuracy figures: **accuracy** and **balance accuracy**. The latter takes into account the proportions of the dataset for each category, so is good for imbalanced datasets.\n",
        "*   If there is a large discrepancy between Training and Testing accuracy, it indicates that the algorithm is **overfitting** to the training data and may be less reliable 'in the wild'.\n",
        "*   The rows of the **confusion matrix** represent the 'true' values, the columns are the predictions.\n",
        "\n",
        "\n",
        "\n",
        "**Are any of the algorithms better or worse in this respect?**\n",
        "\n",
        "**Are there particular categories which are consistently misclassified?**\n",
        "\n",
        "**Add an extra dimension to your experimentation by increasing the numbers of features in the datasets you created in Tutorial 2 (rerun that tutorial with different MAX_FEATURES values) to see the effect more, or fewer, features has on the results.**\n",
        "\n",
        "The results for each run are being captured in the table we created earlier so we can compare each one. If you want to track this as you go, there is a line of code to view the results table after this one. Scroll down to find it."
      ]
    },
    {
      "cell_type": "code",
      "metadata": {
        "id": "4RTzMIbuZRN7",
        "colab": {
          "base_uri": "https://localhost:8080/",
          "height": 629
        },
        "outputId": "690bf24f-145a-490c-a641-4b82e171a892"
      },
      "source": [
        "DATA = 1       # Choose a number between 1 and 3\n",
        "ALGORITHM = 1  # Choose a number between 1 and 3\n",
        "\n",
        "vectoriser = pickle.load(open(data_folder + data_sources[DATA-1][1], 'rb'))\n",
        "\n",
        "training_set, testing_set = train_test_split(descriptions, train_size = 0.4, stratify = descriptions.TAXID)\n",
        "X_train = vectoriser.transform(training_set.Description)\n",
        "y_train = training_set.TAXID\n",
        "\n",
        "if algorithms[ALGORITHM-1][2]:\n",
        "    model = algorithms[ALGORITHM-1][1].fit(X_train.toarray(), y_train)  # The Naive Bayes algorithm doesn't work with sparse matrices\n",
        "else:\n",
        "    model = algorithms[ALGORITHM-1][1].fit(X_train, y_train)\n",
        "\n",
        "pickle.dump(model, open(data_folder + 'model_' + algorithms[ALGORITHM-1][3] + \"_\" + data_sources[DATA-1][2] + '.pck', 'wb'))\n",
        "X_test = vectoriser.transform(testing_set.Description)\n",
        "y_test = testing_set.TAXID\n",
        "if algorithms[ALGORITHM-1][2]:\n",
        "    y_train_pred = model.predict(X_train.toarray())\n",
        "    y_test_pred = model.predict(X_test.toarray())\n",
        "else:\n",
        "    y_train_pred = model.predict(X_train)\n",
        "    y_test_pred = model.predict(X_test)\n",
        "\n",
        "\n",
        "test_accuracy = accuracy_score(y_test, y_test_pred)\n",
        "test_balanced_accuracy = balanced_accuracy_score(y_test, y_test_pred)\n",
        "results.loc[(results.algorithm == algorithms[ALGORITHM-1][0]) & (results.data == data_sources[DATA-1][0]), ['accuracy','balanced_accuracy']] = [test_accuracy, test_balanced_accuracy]\n",
        "\n",
        "print(\"Algorithm:\", algorithms[ALGORITHM-1][0])\n",
        "print(\"Dataset:\", data_sources[DATA-1][0])\n",
        "print(\"Train Accuracy: %0.3f; Balanced: %0.3f\" % (accuracy_score(y_train, y_train_pred), balanced_accuracy_score(y_train, y_train_pred)))\n",
        "print(\"Test Accuracy:  %0.3f; Balanced: %0.3f\" % (test_accuracy, test_balanced_accuracy))\n",
        "\n",
        "fig, ax = plt.subplots(1,1,figsize=(15, 7))\n",
        "sns.heatmap(pd.DataFrame(confusion_matrix(y_test, y_test_pred, normalize=None), range(N), range(N)), annot=True, annot_kws={\"size\": 15}, fmt='g', ax = ax)\n",
        "ax.table(cellText=topN[{'TaxonomyCategory','TAXID'}].sort_values(by='TAXID').values, colLabels=['TaxonomyCategory','TAXID'], loc='top')\n",
        "ax.set_xticklabels(model.classes_)\n",
        "ax.set_yticklabels(model.classes_, rotation = 30)\n",
        "plt.show()\n"
      ],
      "execution_count": 9,
      "outputs": [
        {
          "output_type": "stream",
          "text": [
            "Algorithm: Decision Tree\n",
            "Dataset: Word level TFIDF\n",
            "Train Accuracy: 0.726; Balanced: 0.671\n",
            "Test Accuracy:  0.728; Balanced: 0.675\n"
          ],
          "name": "stdout"
        },
        {
          "output_type": "display_data",
          "data": {
            "image/png": "[encoded data removed]",
            "text/plain": [
              "<Figure size 1080x504 with 2 Axes>"
            ]
          },
          "metadata": {
            "tags": [],
            "needs_background": "light"
          }
        }
      ]
    },
    {
      "cell_type": "markdown",
      "metadata": {
        "id": "zfaf_REaaUqi"
      },
      "source": [
        "This line can be used to view the results of the various combinations of algorithm and dataset. A discussion of the results will follow."
      ]
    },
    {
      "cell_type": "code",
      "metadata": {
        "id": "TgNhLxuP8Jaf",
        "colab": {
          "base_uri": "https://localhost:8080/",
          "height": 321
        },
        "outputId": "8a44a068-157b-4260-d568-15ed544547ee"
      },
      "source": [
        "results"
      ],
      "execution_count": null,
      "outputs": [
        {
          "output_type": "execute_result",
          "data": {
            "text/html": [
              "<div>\n",
              "<style scoped>\n",
              "    .dataframe tbody tr th:only-of-type {\n",
              "        vertical-align: middle;\n",
              "    }\n",
              "\n",
              "    .dataframe tbody tr th {\n",
              "        vertical-align: top;\n",
              "    }\n",
              "\n",
              "    .dataframe thead th {\n",
              "        text-align: right;\n",
              "    }\n",
              "</style>\n",
              "<table border=\"1\" class=\"dataframe\">\n",
              "  <thead>\n",
              "    <tr style=\"text-align: right;\">\n",
              "      <th></th>\n",
              "      <th>data</th>\n",
              "      <th>algorithm</th>\n",
              "      <th>accuracy</th>\n",
              "      <th>balanced_accuracy</th>\n",
              "    </tr>\n",
              "  </thead>\n",
              "  <tbody>\n",
              "    <tr>\n",
              "      <th>0</th>\n",
              "      <td>Word level TFIDF</td>\n",
              "      <td>Decision Tree</td>\n",
              "      <td>0.746426</td>\n",
              "      <td>0.670866</td>\n",
              "    </tr>\n",
              "    <tr>\n",
              "      <th>1</th>\n",
              "      <td>Word level TFIDF</td>\n",
              "      <td>Naive Bayes</td>\n",
              "      <td>0.865765</td>\n",
              "      <td>0.823629</td>\n",
              "    </tr>\n",
              "    <tr>\n",
              "      <th>2</th>\n",
              "      <td>Word level TFIDF</td>\n",
              "      <td>Support Vector Machine</td>\n",
              "      <td>0.937393</td>\n",
              "      <td>0.918884</td>\n",
              "    </tr>\n",
              "    <tr>\n",
              "      <th>3</th>\n",
              "      <td>NGram level TFIDF</td>\n",
              "      <td>Decision Tree</td>\n",
              "      <td>0.746322</td>\n",
              "      <td>0.670984</td>\n",
              "    </tr>\n",
              "    <tr>\n",
              "      <th>4</th>\n",
              "      <td>NGram level TFIDF</td>\n",
              "      <td>Naive Bayes</td>\n",
              "      <td>0.897213</td>\n",
              "      <td>0.868668</td>\n",
              "    </tr>\n",
              "    <tr>\n",
              "      <th>5</th>\n",
              "      <td>NGram level TFIDF</td>\n",
              "      <td>Support Vector Machine</td>\n",
              "      <td>0.944407</td>\n",
              "      <td>0.925981</td>\n",
              "    </tr>\n",
              "    <tr>\n",
              "      <th>6</th>\n",
              "      <td>Stemmed NGram TFIDF</td>\n",
              "      <td>Decision Tree</td>\n",
              "      <td>0.770116</td>\n",
              "      <td>0.673001</td>\n",
              "    </tr>\n",
              "    <tr>\n",
              "      <th>7</th>\n",
              "      <td>Stemmed NGram TFIDF</td>\n",
              "      <td>Naive Bayes</td>\n",
              "      <td>0.862123</td>\n",
              "      <td>0.835571</td>\n",
              "    </tr>\n",
              "    <tr>\n",
              "      <th>8</th>\n",
              "      <td>Stemmed NGram TFIDF</td>\n",
              "      <td>Support Vector Machine</td>\n",
              "      <td>0</td>\n",
              "      <td>0</td>\n",
              "    </tr>\n",
              "  </tbody>\n",
              "</table>\n",
              "</div>"
            ],
            "text/plain": [
              "                  data               algorithm  accuracy balanced_accuracy\n",
              "0     Word level TFIDF           Decision Tree  0.746426          0.670866\n",
              "1     Word level TFIDF             Naive Bayes  0.865765          0.823629\n",
              "2     Word level TFIDF  Support Vector Machine  0.937393          0.918884\n",
              "3    NGram level TFIDF           Decision Tree  0.746322          0.670984\n",
              "4    NGram level TFIDF             Naive Bayes  0.897213          0.868668\n",
              "5    NGram level TFIDF  Support Vector Machine  0.944407          0.925981\n",
              "6  Stemmed NGram TFIDF           Decision Tree  0.770116          0.673001\n",
              "7  Stemmed NGram TFIDF             Naive Bayes  0.862123          0.835571\n",
              "8  Stemmed NGram TFIDF  Support Vector Machine         0                 0"
            ]
          },
          "metadata": {
            "tags": []
          },
          "execution_count": 49
        }
      ]
    },
    {
      "cell_type": "markdown",
      "metadata": {
        "id": "JiEQtl9nRkwh"
      },
      "source": [
        "We can also draw a graph of the results."
      ]
    },
    {
      "cell_type": "code",
      "metadata": {
        "id": "5IMzZ-sjR2eX",
        "colab": {
          "base_uri": "https://localhost:8080/",
          "height": 298
        },
        "outputId": "9788a0ef-9a4c-4f51-cbfb-f22abdac1182"
      },
      "source": [
        "bar = sns.barplot(x = \"balanced_accuracy\", y = \"data\", data = results, hue = \"algorithm\" )\n",
        "bar.legend(loc='right', bbox_to_anchor=(1.5, 0.5))"
      ],
      "execution_count": null,
      "outputs": [
        {
          "output_type": "execute_result",
          "data": {
            "text/plain": [
              "<matplotlib.legend.Legend at 0x7fa4b7edfef0>"
            ]
          },
          "metadata": {
            "tags": []
          },
          "execution_count": 53
        },
        {
          "output_type": "display_data",
          "data": {
            "image/png": "[encoded data removed]",
            "text/plain": [
              "<Figure size 432x288 with 1 Axes>"
            ]
          },
          "metadata": {
            "tags": [],
            "needs_background": "light"
          }
        }
      ]
    },
    {
      "cell_type": "markdown",
      "metadata": {
        "id": "w-2p-7P_aQqN"
      },
      "source": [
        "**Discussion of the results**\n",
        "\n",
        "Everyone's results will be slightly different, depending on the number of features they selected and their training set. However, if your results are similar to mine then you should see the following:\n",
        "\n",
        "\n",
        "1.   Support Vector Machine returns the best results, followed by Naive Bayes, and then Decision Tree\n",
        "2.   Overall the including 2 and 3 word combinations in our training data produces slightly better results than using single words.\n",
        "\n",
        "1.   For this dataset using the Porter stemmer didn't improve results\n",
        "2.   The choice of dataset doesn't seem to make much difference with Naive Bayes\n",
        "\n",
        "\n",
        "\n",
        "\n",
        "\n",
        "\n",
        "\n"
      ]
    },
    {
      "cell_type": "markdown",
      "metadata": {
        "id": "pqa6JAZ9Yx0T"
      },
      "source": [
        "So overall it appears that we should select Support Vector Machine as our Taxonomy classifier.\n",
        "In the next tutorial we will delve further into whether that is the right decision. We will also use our classifiers to predict categories for specific descriptions and look further at the results that come out of the predictions."
      ]
    },
    {
      "cell_type": "markdown",
      "metadata": {
        "id": "-eJ1wsbVojc_"
      },
      "source": [
        "That's the end of this tutorial in which you have gained some experience in running and comparing the results of 3 different algorithms. \n",
        "\n",
        "\n",
        "In the next tutorial we will look more closely at the models in action and also explore ways of explaining their outputs.\n",
        "\n"
      ]
    }
  ]
}